{
 "cells": [
  {
   "cell_type": "markdown",
   "metadata": {},
   "source": [
    "# Compare models"
   ]
  },
  {
   "cell_type": "markdown",
   "metadata": {},
   "source": [
    "## Loading feature sets"
   ]
  },
  {
   "cell_type": "code",
   "execution_count": 1,
   "metadata": {},
   "outputs": [],
   "source": [
    "# defining constants\n",
    "corpus_folder='corpus'\n",
    "metadata_fn='corpus/metadata.txt'\n",
    "target_col='sample_name'\n",
    "dir_featuresets='featuresets'\n",
    "kf_n_splits=5"
   ]
  },
  {
   "cell_type": "code",
   "execution_count": 2,
   "metadata": {},
   "outputs": [],
   "source": [
    "# imports\n",
    "import pandas as pd,os\n",
    "pd.set_option('display.max_columns', None)\n",
    "pd.set_option('display.max_rows', 10)"
   ]
  },
  {
   "cell_type": "code",
   "execution_count": 3,
   "metadata": {},
   "outputs": [],
   "source": [
    "# open all metadata and featuresets\n",
    "df_meta=pd.read_csv(metadata_fn,encoding='utf-8',sep='\\t').set_index('fn')\n",
    "ALL_DFs = [(metadata_fn,df_meta)]\n",
    "name2df={}\n",
    "for fn in os.listdir(dir_featuresets):\n",
    "    if fn.endswith('.txt'):\n",
    "        name=fn.replace('.txt','')\n",
    "        df=pd.read_csv(os.path.join(dir_featuresets,fn),encoding='utf-8',sep='\\t').fillna(0)\n",
    "        df = df.set_index('_fn' if '_fn' in df else 'fn')\n",
    "        ALL_DFs+=[(fn,df)]\n",
    "        name2df[name]=df"
   ]
  },
  {
   "cell_type": "code",
   "execution_count": 4,
   "metadata": {},
   "outputs": [
    {
     "data": {
      "text/plain": [
       "(1300, 9)"
      ]
     },
     "execution_count": 4,
     "metadata": {},
     "output_type": "execute_result"
    }
   ],
   "source": [
    "# the metadata\n",
    "df_meta.shape"
   ]
  },
  {
   "cell_type": "code",
   "execution_count": 5,
   "metadata": {},
   "outputs": [
    {
     "name": "stdout",
     "output_type": "stream",
     "text": [
      "wordfreqs (1300, 1000)\n",
      "poesy (1300, 165)\n"
     ]
    }
   ],
   "source": [
    "# The feature dfs\n",
    "for name,df in name2df.items(): print name, df.shape"
   ]
  },
  {
   "cell_type": "markdown",
   "metadata": {},
   "source": [
    "### Synchronize all dataframes (metadata + featuresets)"
   ]
  },
  {
   "cell_type": "code",
   "execution_count": 6,
   "metadata": {},
   "outputs": [],
   "source": [
    "# Get indices/filenames that appear in every featureset\n",
    "index_sets = [set(df.index) for (fn,df) in ALL_DFs]\n",
    "shared_index = set.intersection(*index_sets)\n",
    "shared_index = sorted(list(shared_index))"
   ]
  },
  {
   "cell_type": "code",
   "execution_count": 7,
   "metadata": {},
   "outputs": [
    {
     "data": {
      "text/plain": [
       "1282"
      ]
     },
     "execution_count": 7,
     "metadata": {},
     "output_type": "execute_result"
    }
   ],
   "source": [
    "# How many shared indices are there?\n",
    "len(shared_index)"
   ]
  },
  {
   "cell_type": "code",
   "execution_count": 8,
   "metadata": {},
   "outputs": [
    {
     "name": "stdout",
     "output_type": "stream",
     "text": [
      "corpus/metadata.txt (1300, 9) (1282, 9)\n",
      "wordfreqs.txt (1300, 1000) (1282, 1000)\n",
      "poesy.txt (1300, 165) (1282, 165)\n"
     ]
    }
   ],
   "source": [
    "# Rebalance all dfs to just the shared index\n",
    "df_meta=df_meta[~df_meta.index.duplicated(keep='first')]\n",
    "df_meta=df_meta.loc[shared_index]\n",
    "df_meta.reindex(shared_index)\n",
    "for i in list(range(len(ALL_DFs))):\n",
    "    fn,df=ALL_DFs[i]\n",
    "    name=fn.replace('.txt','')\n",
    "    print fn,df.shape,\n",
    "    df=df[~df.index.duplicated(keep='first')]\n",
    "    df=df.loc[shared_index]\n",
    "    df.reindex(shared_index)\n",
    "    ALL_DFs[i]=(fn,df)\n",
    "    if i>0: name2df[name]=df\n",
    "    print ALL_DFs[i][1].shape"
   ]
  },
  {
   "cell_type": "code",
   "execution_count": 9,
   "metadata": {},
   "outputs": [
    {
     "data": {
      "text/plain": [
       "(1282, 9)"
      ]
     },
     "execution_count": 9,
     "metadata": {},
     "output_type": "execute_result"
    }
   ],
   "source": [
    "# The metadata now\n",
    "df_meta.shape"
   ]
  },
  {
   "cell_type": "code",
   "execution_count": 10,
   "metadata": {},
   "outputs": [
    {
     "data": {
      "text/plain": [
       "[('wordfreqs', (1282, 1000)), ('poesy', (1282, 165))]"
      ]
     },
     "execution_count": 10,
     "metadata": {},
     "output_type": "execute_result"
    }
   ],
   "source": [
    "# The feature data frames and their shapes\n",
    "[(name,df.shape) for name,df in name2df.items()]"
   ]
  },
  {
   "cell_type": "markdown",
   "metadata": {},
   "source": [
    "## Add derivative featuresets"
   ]
  },
  {
   "cell_type": "code",
   "execution_count": 11,
   "metadata": {},
   "outputs": [],
   "source": [
    "# Make a just 'lineX--rhymeswith-->lineY' featureset\n",
    "qcols_poesy=list(name2df['poesy'].select_dtypes('number').columns)\n",
    "qcols_poesy=[x for x in qcols_poesy if x.startswith('rhymes_')]\n",
    "name2df['poesy (just rhyme)']=name2df['poesy'][qcols_poesy]\n",
    "#qcols_poesy"
   ]
  },
  {
   "cell_type": "code",
   "execution_count": 12,
   "metadata": {},
   "outputs": [],
   "source": [
    "# add combinations\n",
    "name2df['poesy + wordfreqs']=name2df['poesy'].join(name2df['wordfreqs'])"
   ]
  },
  {
   "cell_type": "markdown",
   "metadata": {},
   "source": [
    "## Classify!"
   ]
  },
  {
   "cell_type": "code",
   "execution_count": 13,
   "metadata": {},
   "outputs": [],
   "source": [
    "# imports\n",
    "from sklearn.linear_model import LogisticRegression\n",
    "from sklearn.model_selection import cross_val_predict,cross_val_score\n",
    "from sklearn.metrics import classification_report\n",
    "from sklearn.model_selection import LeaveOneOut\n",
    "from sklearn.model_selection import KFold\n",
    "import numpy as np\n",
    "\n",
    "# basic classifier\n",
    "def classify(Xdf,y,return_probs=False,standardize=True,leave_one_out=False,n_splits=kf_n_splits):\n",
    "    \"\"\"\n",
    "    This is a very basic logisticregression model\n",
    "    using leave-one-out cross-validation to make predictions.\n",
    "    \n",
    "    X: matrix of numerical data\n",
    "    y: true classes for data (Sonnets, NotSonnets, ...)\n",
    "    return_probs: return probability of guess rather than guess itself\n",
    "    \"\"\"\n",
    "    loo=LeaveOneOut()\n",
    "    kf = KFold(n_splits=n_splits,shuffle=True,random_state=11)\n",
    "    all_predictions=[]\n",
    "    all_probs=[]\n",
    "    ind2prob={}\n",
    "    ind2pred={}\n",
    "    \n",
    "    cols=Xdf.columns\n",
    "    if standardize:\n",
    "        from scipy.stats import zscore\n",
    "        X=zscore(Xdf.values)\n",
    "        \n",
    "    from collections import defaultdict\n",
    "    all_coeffs=defaultdict(list)\n",
    "    #for train_index, test_index in loo.split(X):\n",
    "    splitter = loo.split(X) if leave_one_out else kf.split(X)\n",
    "    \n",
    "    for train_index,test_index in splitter:\n",
    "        # build new model\n",
    "        clf = LogisticRegression(C=0.001)\n",
    "        # slice\n",
    "        X_train, X_test = X[train_index], X[test_index]\n",
    "        y_train, y_test = y[train_index], y[test_index]\n",
    "        Xdf_train, Xdf_test = Xdf.iloc[train_index], Xdf.iloc[test_index]\n",
    "        # fit\n",
    "        clf.fit(X_train,y_train)\n",
    "        probs=clf.predict_proba(X_test)\n",
    "        predictions=clf.predict(X_test)\n",
    "        #return clf,probs,predictions\n",
    "        \n",
    "        if leave_one_out:\n",
    "            # predict probs\n",
    "            prob=probs[0][1]\n",
    "            all_probs+=[prob]\n",
    "            # predict vals\n",
    "            prediction=predictions[0]\n",
    "            all_predictions+=[prediction]\n",
    "            # get feature coefficients\n",
    "        else:\n",
    "            this_predictions=list(predictions)\n",
    "            this_probs=[prob[1] for prob in probs]\n",
    "            for i,index in enumerate(Xdf_test.index):\n",
    "                ind2pred[index]=this_predictions[i]\n",
    "                ind2prob[index]=this_probs[i]\n",
    "            \n",
    "        for col,coef in zip(cols,clf.coef_[0]): all_coeffs[col]+=[coef]\n",
    "    # reorder if KF\n",
    "    if not leave_one_out:\n",
    "        all_predictions=[ind2pred[ind] for ind in Xdf.index]\n",
    "        all_probs=[ind2prob[ind] for ind in Xdf.index]\n",
    "    # avg feature coefficients\n",
    "    for cf in all_coeffs: all_coeffs[cf]=np.mean(all_coeffs[cf])\n",
    "    # return all this data\n",
    "    return (all_predictions,all_probs,all_coeffs)"
   ]
  },
  {
   "cell_type": "code",
   "execution_count": 14,
   "metadata": {},
   "outputs": [],
   "source": [
    "# Run classifier on a featureset\n",
    "def classify_feat_df(df_feat,return_probs=False):\n",
    "    y=np.array([df_meta.loc[idx][target_col] for idx in shared_index])\n",
    "    Xdf=df_feat.select_dtypes('number').fillna(0)\n",
    "    return classify(Xdf,y,return_probs=return_probs)"
   ]
  },
  {
   "cell_type": "code",
   "execution_count": 15,
   "metadata": {},
   "outputs": [],
   "source": [
    "#all_predictions,all_probs,all_coeffs=classify_feat_df(name2df['poesy'])\n",
    "#all_coeffs"
   ]
  },
  {
   "cell_type": "code",
   "execution_count": 16,
   "metadata": {},
   "outputs": [],
   "source": [
    "# Initiate results and probabilities dataframe\n",
    "df_results=pd.DataFrame(index=shared_index)\n",
    "df_probs=pd.DataFrame(index=shared_index)\n",
    "df_results[target_col]=df_meta[target_col]\n",
    "df_probs[target_col]=df_meta[target_col]"
   ]
  },
  {
   "cell_type": "code",
   "execution_count": 17,
   "metadata": {},
   "outputs": [
    {
     "name": "stdout",
     "output_type": "stream",
     "text": [
      ">> featureset: wordfreqs ...\n",
      ">> featureset: poesy + wordfreqs ...\n",
      ">> featureset: poesy ...\n",
      ">> featureset: poesy (just rhyme) ...\n"
     ]
    }
   ],
   "source": [
    "# Classify all feature DFs and get all data\n",
    "ld_feats=[]\n",
    "feats_sofar=set()\n",
    "for name,df in name2df.items():\n",
    "    print '>> featureset:',name,'...'\n",
    "    #if 'wordfreqs' in name: continue\n",
    "\n",
    "    # classify\n",
    "    preds,probs,featd=classify_feat_df(df)\n",
    "    \n",
    "    # save data\n",
    "    df_results[name]=preds\n",
    "    df_probs[name]=probs\n",
    "    \n",
    "    # save data about feature coefficients\n",
    "    if not '+' in name:\n",
    "        for feat,coef in featd.items():\n",
    "            if feat in feats_sofar: continue\n",
    "            feats_sofar|={feat}\n",
    "            d_feats={'feat':feat,'model':name,'coeff':coef}\n",
    "            ld_feats+=[d_feats]\n",
    "df_feats=pd.DataFrame(ld_feats)\n",
    "df_feats['coeff_abs']=df_feats['coeff'].abs()"
   ]
  },
  {
   "cell_type": "code",
   "execution_count": 18,
   "metadata": {},
   "outputs": [
    {
     "data": {
      "text/html": [
       "<div>\n",
       "<style scoped>\n",
       "    .dataframe tbody tr th:only-of-type {\n",
       "        vertical-align: middle;\n",
       "    }\n",
       "\n",
       "    .dataframe tbody tr th {\n",
       "        vertical-align: top;\n",
       "    }\n",
       "\n",
       "    .dataframe thead th {\n",
       "        text-align: right;\n",
       "    }\n",
       "</style>\n",
       "<table border=\"1\" class=\"dataframe\">\n",
       "  <thead>\n",
       "    <tr style=\"text-align: right;\">\n",
       "      <th></th>\n",
       "      <th>sample_name</th>\n",
       "      <th>wordfreqs</th>\n",
       "      <th>poesy + wordfreqs</th>\n",
       "      <th>poesy</th>\n",
       "      <th>poesy (just rhyme)</th>\n",
       "    </tr>\n",
       "  </thead>\n",
       "  <tbody>\n",
       "    <tr>\n",
       "      <th>corpus/NotSonnets/Z200137254.txt</th>\n",
       "      <td>NotSonnets</td>\n",
       "      <td>NotSonnets</td>\n",
       "      <td>NotSonnets</td>\n",
       "      <td>NotSonnets</td>\n",
       "      <td>Sonnets</td>\n",
       "    </tr>\n",
       "    <tr>\n",
       "      <th>corpus/NotSonnets/Z200137556.txt</th>\n",
       "      <td>NotSonnets</td>\n",
       "      <td>NotSonnets</td>\n",
       "      <td>NotSonnets</td>\n",
       "      <td>Sonnets</td>\n",
       "      <td>Sonnets</td>\n",
       "    </tr>\n",
       "    <tr>\n",
       "      <th>corpus/NotSonnets/Z200137669.txt</th>\n",
       "      <td>NotSonnets</td>\n",
       "      <td>NotSonnets</td>\n",
       "      <td>NotSonnets</td>\n",
       "      <td>NotSonnets</td>\n",
       "      <td>NotSonnets</td>\n",
       "    </tr>\n",
       "    <tr>\n",
       "      <th>corpus/NotSonnets/Z200139458.txt</th>\n",
       "      <td>NotSonnets</td>\n",
       "      <td>Sonnets</td>\n",
       "      <td>NotSonnets</td>\n",
       "      <td>NotSonnets</td>\n",
       "      <td>NotSonnets</td>\n",
       "    </tr>\n",
       "    <tr>\n",
       "      <th>corpus/NotSonnets/Z200139509.txt</th>\n",
       "      <td>NotSonnets</td>\n",
       "      <td>NotSonnets</td>\n",
       "      <td>NotSonnets</td>\n",
       "      <td>NotSonnets</td>\n",
       "      <td>NotSonnets</td>\n",
       "    </tr>\n",
       "  </tbody>\n",
       "</table>\n",
       "</div>"
      ],
      "text/plain": [
       "                                 sample_name   wordfreqs poesy + wordfreqs  \\\n",
       "corpus/NotSonnets/Z200137254.txt  NotSonnets  NotSonnets        NotSonnets   \n",
       "corpus/NotSonnets/Z200137556.txt  NotSonnets  NotSonnets        NotSonnets   \n",
       "corpus/NotSonnets/Z200137669.txt  NotSonnets  NotSonnets        NotSonnets   \n",
       "corpus/NotSonnets/Z200139458.txt  NotSonnets     Sonnets        NotSonnets   \n",
       "corpus/NotSonnets/Z200139509.txt  NotSonnets  NotSonnets        NotSonnets   \n",
       "\n",
       "                                       poesy poesy (just rhyme)  \n",
       "corpus/NotSonnets/Z200137254.txt  NotSonnets            Sonnets  \n",
       "corpus/NotSonnets/Z200137556.txt     Sonnets            Sonnets  \n",
       "corpus/NotSonnets/Z200137669.txt  NotSonnets         NotSonnets  \n",
       "corpus/NotSonnets/Z200139458.txt  NotSonnets         NotSonnets  \n",
       "corpus/NotSonnets/Z200139509.txt  NotSonnets         NotSonnets  "
      ]
     },
     "execution_count": 18,
     "metadata": {},
     "output_type": "execute_result"
    }
   ],
   "source": [
    "# Featureset of qualitative predictions\n",
    "df_results.head()"
   ]
  },
  {
   "cell_type": "code",
   "execution_count": 19,
   "metadata": {},
   "outputs": [
    {
     "data": {
      "text/html": [
       "<div>\n",
       "<style scoped>\n",
       "    .dataframe tbody tr th:only-of-type {\n",
       "        vertical-align: middle;\n",
       "    }\n",
       "\n",
       "    .dataframe tbody tr th {\n",
       "        vertical-align: top;\n",
       "    }\n",
       "\n",
       "    .dataframe thead th {\n",
       "        text-align: right;\n",
       "    }\n",
       "</style>\n",
       "<table border=\"1\" class=\"dataframe\">\n",
       "  <thead>\n",
       "    <tr style=\"text-align: right;\">\n",
       "      <th></th>\n",
       "      <th>sample_name</th>\n",
       "      <th>wordfreqs</th>\n",
       "      <th>poesy + wordfreqs</th>\n",
       "      <th>poesy</th>\n",
       "      <th>poesy (just rhyme)</th>\n",
       "    </tr>\n",
       "  </thead>\n",
       "  <tbody>\n",
       "    <tr>\n",
       "      <th>corpus/NotSonnets/Z200137254.txt</th>\n",
       "      <td>NotSonnets</td>\n",
       "      <td>0.306367</td>\n",
       "      <td>0.242882</td>\n",
       "      <td>0.311310</td>\n",
       "      <td>0.562458</td>\n",
       "    </tr>\n",
       "    <tr>\n",
       "      <th>corpus/NotSonnets/Z200137556.txt</th>\n",
       "      <td>NotSonnets</td>\n",
       "      <td>0.343467</td>\n",
       "      <td>0.461445</td>\n",
       "      <td>0.572219</td>\n",
       "      <td>0.637613</td>\n",
       "    </tr>\n",
       "    <tr>\n",
       "      <th>corpus/NotSonnets/Z200137669.txt</th>\n",
       "      <td>NotSonnets</td>\n",
       "      <td>0.442241</td>\n",
       "      <td>0.221353</td>\n",
       "      <td>0.178019</td>\n",
       "      <td>0.332600</td>\n",
       "    </tr>\n",
       "    <tr>\n",
       "      <th>corpus/NotSonnets/Z200139458.txt</th>\n",
       "      <td>NotSonnets</td>\n",
       "      <td>0.521884</td>\n",
       "      <td>0.259961</td>\n",
       "      <td>0.262423</td>\n",
       "      <td>0.234806</td>\n",
       "    </tr>\n",
       "    <tr>\n",
       "      <th>corpus/NotSonnets/Z200139509.txt</th>\n",
       "      <td>NotSonnets</td>\n",
       "      <td>0.482544</td>\n",
       "      <td>0.426656</td>\n",
       "      <td>0.489357</td>\n",
       "      <td>0.492774</td>\n",
       "    </tr>\n",
       "  </tbody>\n",
       "</table>\n",
       "</div>"
      ],
      "text/plain": [
       "                                 sample_name  wordfreqs  poesy + wordfreqs  \\\n",
       "corpus/NotSonnets/Z200137254.txt  NotSonnets   0.306367           0.242882   \n",
       "corpus/NotSonnets/Z200137556.txt  NotSonnets   0.343467           0.461445   \n",
       "corpus/NotSonnets/Z200137669.txt  NotSonnets   0.442241           0.221353   \n",
       "corpus/NotSonnets/Z200139458.txt  NotSonnets   0.521884           0.259961   \n",
       "corpus/NotSonnets/Z200139509.txt  NotSonnets   0.482544           0.426656   \n",
       "\n",
       "                                     poesy  poesy (just rhyme)  \n",
       "corpus/NotSonnets/Z200137254.txt  0.311310            0.562458  \n",
       "corpus/NotSonnets/Z200137556.txt  0.572219            0.637613  \n",
       "corpus/NotSonnets/Z200137669.txt  0.178019            0.332600  \n",
       "corpus/NotSonnets/Z200139458.txt  0.262423            0.234806  \n",
       "corpus/NotSonnets/Z200139509.txt  0.489357            0.492774  "
      ]
     },
     "execution_count": 19,
     "metadata": {},
     "output_type": "execute_result"
    }
   ],
   "source": [
    "# Featureset of probabilities for sonnet\n",
    "df_probs.head(5)"
   ]
  },
  {
   "cell_type": "code",
   "execution_count": 20,
   "metadata": {},
   "outputs": [
    {
     "data": {
      "text/html": [
       "<div>\n",
       "<style scoped>\n",
       "    .dataframe tbody tr th:only-of-type {\n",
       "        vertical-align: middle;\n",
       "    }\n",
       "\n",
       "    .dataframe tbody tr th {\n",
       "        vertical-align: top;\n",
       "    }\n",
       "\n",
       "    .dataframe thead th {\n",
       "        text-align: right;\n",
       "    }\n",
       "</style>\n",
       "<table border=\"1\" class=\"dataframe\">\n",
       "  <thead>\n",
       "    <tr style=\"text-align: right;\">\n",
       "      <th></th>\n",
       "      <th>coeff</th>\n",
       "      <th>feat</th>\n",
       "      <th>model</th>\n",
       "      <th>coeff_abs</th>\n",
       "    </tr>\n",
       "  </thead>\n",
       "  <tbody>\n",
       "    <tr>\n",
       "      <th>1030</th>\n",
       "      <td>0.091062</td>\n",
       "      <td>meter_length_avg_line</td>\n",
       "      <td>poesy</td>\n",
       "      <td>0.091062</td>\n",
       "    </tr>\n",
       "    <tr>\n",
       "      <th>1043</th>\n",
       "      <td>0.091062</td>\n",
       "      <td>meter_length_avg_parse</td>\n",
       "      <td>poesy</td>\n",
       "      <td>0.091062</td>\n",
       "    </tr>\n",
       "    <tr>\n",
       "      <th>1118</th>\n",
       "      <td>-0.083521</td>\n",
       "      <td>rhymes_l11-l12</td>\n",
       "      <td>poesy</td>\n",
       "      <td>0.083521</td>\n",
       "    </tr>\n",
       "    <tr>\n",
       "      <th>1057</th>\n",
       "      <td>-0.081263</td>\n",
       "      <td>rhyme_scheme_acc_Couplet</td>\n",
       "      <td>poesy</td>\n",
       "      <td>0.081263</td>\n",
       "    </tr>\n",
       "    <tr>\n",
       "      <th>1081</th>\n",
       "      <td>0.077080</td>\n",
       "      <td>rhymes_l05-l08</td>\n",
       "      <td>poesy</td>\n",
       "      <td>0.077080</td>\n",
       "    </tr>\n",
       "    <tr>\n",
       "      <th>...</th>\n",
       "      <td>...</td>\n",
       "      <td>...</td>\n",
       "      <td>...</td>\n",
       "      <td>...</td>\n",
       "    </tr>\n",
       "    <tr>\n",
       "      <th>436</th>\n",
       "      <td>0.000092</td>\n",
       "      <td>youth</td>\n",
       "      <td>wordfreqs</td>\n",
       "      <td>0.000092</td>\n",
       "    </tr>\n",
       "    <tr>\n",
       "      <th>829</th>\n",
       "      <td>0.000082</td>\n",
       "      <td>hair</td>\n",
       "      <td>wordfreqs</td>\n",
       "      <td>0.000082</td>\n",
       "    </tr>\n",
       "    <tr>\n",
       "      <th>914</th>\n",
       "      <td>0.000072</td>\n",
       "      <td>enough</td>\n",
       "      <td>wordfreqs</td>\n",
       "      <td>0.000072</td>\n",
       "    </tr>\n",
       "    <tr>\n",
       "      <th>1003</th>\n",
       "      <td>-0.000033</td>\n",
       "      <td>rhymes_l06-l13</td>\n",
       "      <td>poesy</td>\n",
       "      <td>0.000033</td>\n",
       "    </tr>\n",
       "    <tr>\n",
       "      <th>555</th>\n",
       "      <td>-0.000021</td>\n",
       "      <td>fields</td>\n",
       "      <td>wordfreqs</td>\n",
       "      <td>0.000021</td>\n",
       "    </tr>\n",
       "  </tbody>\n",
       "</table>\n",
       "<p>1151 rows × 4 columns</p>\n",
       "</div>"
      ],
      "text/plain": [
       "         coeff                      feat      model  coeff_abs\n",
       "1030  0.091062     meter_length_avg_line      poesy   0.091062\n",
       "1043  0.091062    meter_length_avg_parse      poesy   0.091062\n",
       "1118 -0.083521            rhymes_l11-l12      poesy   0.083521\n",
       "1057 -0.081263  rhyme_scheme_acc_Couplet      poesy   0.081263\n",
       "1081  0.077080            rhymes_l05-l08      poesy   0.077080\n",
       "...        ...                       ...        ...        ...\n",
       "436   0.000092                     youth  wordfreqs   0.000092\n",
       "829   0.000082                      hair  wordfreqs   0.000082\n",
       "914   0.000072                    enough  wordfreqs   0.000072\n",
       "1003 -0.000033            rhymes_l06-l13      poesy   0.000033\n",
       "555  -0.000021                    fields  wordfreqs   0.000021\n",
       "\n",
       "[1151 rows x 4 columns]"
      ]
     },
     "execution_count": 20,
     "metadata": {},
     "output_type": "execute_result"
    }
   ],
   "source": [
    "# Most to least predictive features\n",
    "df_feats.sort_values('coeff_abs',ascending=False)"
   ]
  },
  {
   "cell_type": "markdown",
   "metadata": {},
   "source": [
    "## Adding rule-based models"
   ]
  },
  {
   "cell_type": "code",
   "execution_count": 21,
   "metadata": {},
   "outputs": [],
   "source": [
    "def poesy_rule_based_classifier_for_sonnets(row):\n",
    "    if row['num_lines']!=14: return 'NotSonnets'\n",
    "    #if row['meter_type_scheme']!='iambic': return 'NotSonnets'\n",
    "    #if row['beat_scheme_repr']!='Pentameter': return 'NotSonnets'\n",
    "    if row['meter_length_avg_line']<8: return 'NotSonnets'\n",
    "    if row['meter_length_avg_line']>12: return 'NotSonnets'\n",
    "    if not 'sonnet' in unicode(row['rhyme_scheme_name']).lower(): return 'NotSonnets'\n",
    "    return 'Sonnets'"
   ]
  },
  {
   "cell_type": "code",
   "execution_count": 22,
   "metadata": {},
   "outputs": [],
   "source": [
    "def loose_poesy_rule_based_classifier_for_sonnets(row,certainty_threshold=0.5,return_probs=False):\n",
    "    counts_in_its_favor = []\n",
    "    counts_in_its_favor += [row['num_lines']==14]\n",
    "    counts_in_its_favor += [row['meter_type_scheme']=='iambic']\n",
    "    counts_in_its_favor += [row['beat_scheme_repr']=='Pentameter']\n",
    "    counts_in_its_favor += [row['meter_length_avg_line']>=8]\n",
    "    counts_in_its_favor += [row['meter_length_avg_line']<=12]\n",
    "    counts_in_its_favor += ['sonnet' in unicode(row['rhyme_scheme_name']).lower()]\n",
    "    #counts_in_its_favor += ['sonnet' in unicode(row['rhyme_scheme_name']).lower()] # counts for double\n",
    "    \n",
    "    counts = [int(x) for x in counts_in_its_favor]\n",
    "    certainty = sum(counts)/float(len(counts)) if counts else 0.0\n",
    "    if return_probs: return certainty\n",
    "    return 'Sonnets' if certainty>certainty_threshold else 'NotSonnets'"
   ]
  },
  {
   "cell_type": "code",
   "execution_count": 23,
   "metadata": {},
   "outputs": [],
   "source": [
    "# Add rule based models' predictions to df_results\n",
    "df_results['rule-based']=[\n",
    "    poesy_rule_based_classifier_for_sonnets(row) for ind,row in name2df['poesy'].iterrows()\n",
    "]\n",
    "df_results['rule-based (loose)']=[\n",
    "    loose_poesy_rule_based_classifier_for_sonnets(row) for ind,row in name2df['poesy'].iterrows()\n",
    "]"
   ]
  },
  {
   "cell_type": "code",
   "execution_count": 24,
   "metadata": {},
   "outputs": [],
   "source": [
    "# Add rule-based models' probabilities to df_probs\n",
    "df_probs['rule-based']=[\n",
    "    float(int(poesy_rule_based_classifier_for_sonnets(row)=='Sonnets')) for ind,row in name2df['poesy'].iterrows()\n",
    "]\n",
    "\n",
    "#loosely rule based\n",
    "df_probs['rule-based (loose)']=[\n",
    "    loose_poesy_rule_based_classifier_for_sonnets(row,return_probs=True) for ind,row in name2df['poesy'].iterrows()\n",
    "]"
   ]
  },
  {
   "cell_type": "code",
   "execution_count": 25,
   "metadata": {},
   "outputs": [
    {
     "data": {
      "text/html": [
       "<div>\n",
       "<style scoped>\n",
       "    .dataframe tbody tr th:only-of-type {\n",
       "        vertical-align: middle;\n",
       "    }\n",
       "\n",
       "    .dataframe tbody tr th {\n",
       "        vertical-align: top;\n",
       "    }\n",
       "\n",
       "    .dataframe thead th {\n",
       "        text-align: right;\n",
       "    }\n",
       "</style>\n",
       "<table border=\"1\" class=\"dataframe\">\n",
       "  <thead>\n",
       "    <tr style=\"text-align: right;\">\n",
       "      <th></th>\n",
       "      <th>sample_name</th>\n",
       "      <th>wordfreqs</th>\n",
       "      <th>poesy + wordfreqs</th>\n",
       "      <th>poesy</th>\n",
       "      <th>poesy (just rhyme)</th>\n",
       "      <th>rule-based</th>\n",
       "      <th>rule-based (loose)</th>\n",
       "    </tr>\n",
       "  </thead>\n",
       "  <tbody>\n",
       "    <tr>\n",
       "      <th>corpus/NotSonnets/Z200137254.txt</th>\n",
       "      <td>NotSonnets</td>\n",
       "      <td>NotSonnets</td>\n",
       "      <td>NotSonnets</td>\n",
       "      <td>NotSonnets</td>\n",
       "      <td>Sonnets</td>\n",
       "      <td>NotSonnets</td>\n",
       "      <td>NotSonnets</td>\n",
       "    </tr>\n",
       "    <tr>\n",
       "      <th>corpus/NotSonnets/Z200137556.txt</th>\n",
       "      <td>NotSonnets</td>\n",
       "      <td>NotSonnets</td>\n",
       "      <td>NotSonnets</td>\n",
       "      <td>Sonnets</td>\n",
       "      <td>Sonnets</td>\n",
       "      <td>Sonnets</td>\n",
       "      <td>Sonnets</td>\n",
       "    </tr>\n",
       "    <tr>\n",
       "      <th>corpus/NotSonnets/Z200137669.txt</th>\n",
       "      <td>NotSonnets</td>\n",
       "      <td>NotSonnets</td>\n",
       "      <td>NotSonnets</td>\n",
       "      <td>NotSonnets</td>\n",
       "      <td>NotSonnets</td>\n",
       "      <td>NotSonnets</td>\n",
       "      <td>NotSonnets</td>\n",
       "    </tr>\n",
       "    <tr>\n",
       "      <th>corpus/NotSonnets/Z200139458.txt</th>\n",
       "      <td>NotSonnets</td>\n",
       "      <td>Sonnets</td>\n",
       "      <td>NotSonnets</td>\n",
       "      <td>NotSonnets</td>\n",
       "      <td>NotSonnets</td>\n",
       "      <td>NotSonnets</td>\n",
       "      <td>Sonnets</td>\n",
       "    </tr>\n",
       "    <tr>\n",
       "      <th>corpus/NotSonnets/Z200139509.txt</th>\n",
       "      <td>NotSonnets</td>\n",
       "      <td>NotSonnets</td>\n",
       "      <td>NotSonnets</td>\n",
       "      <td>NotSonnets</td>\n",
       "      <td>NotSonnets</td>\n",
       "      <td>NotSonnets</td>\n",
       "      <td>Sonnets</td>\n",
       "    </tr>\n",
       "  </tbody>\n",
       "</table>\n",
       "</div>"
      ],
      "text/plain": [
       "                                 sample_name   wordfreqs poesy + wordfreqs  \\\n",
       "corpus/NotSonnets/Z200137254.txt  NotSonnets  NotSonnets        NotSonnets   \n",
       "corpus/NotSonnets/Z200137556.txt  NotSonnets  NotSonnets        NotSonnets   \n",
       "corpus/NotSonnets/Z200137669.txt  NotSonnets  NotSonnets        NotSonnets   \n",
       "corpus/NotSonnets/Z200139458.txt  NotSonnets     Sonnets        NotSonnets   \n",
       "corpus/NotSonnets/Z200139509.txt  NotSonnets  NotSonnets        NotSonnets   \n",
       "\n",
       "                                       poesy poesy (just rhyme)  rule-based  \\\n",
       "corpus/NotSonnets/Z200137254.txt  NotSonnets            Sonnets  NotSonnets   \n",
       "corpus/NotSonnets/Z200137556.txt     Sonnets            Sonnets     Sonnets   \n",
       "corpus/NotSonnets/Z200137669.txt  NotSonnets         NotSonnets  NotSonnets   \n",
       "corpus/NotSonnets/Z200139458.txt  NotSonnets         NotSonnets  NotSonnets   \n",
       "corpus/NotSonnets/Z200139509.txt  NotSonnets         NotSonnets  NotSonnets   \n",
       "\n",
       "                                 rule-based (loose)  \n",
       "corpus/NotSonnets/Z200137254.txt         NotSonnets  \n",
       "corpus/NotSonnets/Z200137556.txt            Sonnets  \n",
       "corpus/NotSonnets/Z200137669.txt         NotSonnets  \n",
       "corpus/NotSonnets/Z200139458.txt            Sonnets  \n",
       "corpus/NotSonnets/Z200139509.txt            Sonnets  "
      ]
     },
     "execution_count": 25,
     "metadata": {},
     "output_type": "execute_result"
    }
   ],
   "source": [
    "# Results table now\n",
    "df_results.head(5)"
   ]
  },
  {
   "cell_type": "code",
   "execution_count": 26,
   "metadata": {},
   "outputs": [
    {
     "data": {
      "text/html": [
       "<div>\n",
       "<style scoped>\n",
       "    .dataframe tbody tr th:only-of-type {\n",
       "        vertical-align: middle;\n",
       "    }\n",
       "\n",
       "    .dataframe tbody tr th {\n",
       "        vertical-align: top;\n",
       "    }\n",
       "\n",
       "    .dataframe thead th {\n",
       "        text-align: right;\n",
       "    }\n",
       "</style>\n",
       "<table border=\"1\" class=\"dataframe\">\n",
       "  <thead>\n",
       "    <tr style=\"text-align: right;\">\n",
       "      <th></th>\n",
       "      <th>sample_name</th>\n",
       "      <th>wordfreqs</th>\n",
       "      <th>poesy + wordfreqs</th>\n",
       "      <th>poesy</th>\n",
       "      <th>poesy (just rhyme)</th>\n",
       "      <th>rule-based</th>\n",
       "      <th>rule-based (loose)</th>\n",
       "    </tr>\n",
       "  </thead>\n",
       "  <tbody>\n",
       "    <tr>\n",
       "      <th>corpus/NotSonnets/Z200137254.txt</th>\n",
       "      <td>NotSonnets</td>\n",
       "      <td>0.306367</td>\n",
       "      <td>0.242882</td>\n",
       "      <td>0.311310</td>\n",
       "      <td>0.562458</td>\n",
       "      <td>0.0</td>\n",
       "      <td>0.500000</td>\n",
       "    </tr>\n",
       "    <tr>\n",
       "      <th>corpus/NotSonnets/Z200137556.txt</th>\n",
       "      <td>NotSonnets</td>\n",
       "      <td>0.343467</td>\n",
       "      <td>0.461445</td>\n",
       "      <td>0.572219</td>\n",
       "      <td>0.637613</td>\n",
       "      <td>1.0</td>\n",
       "      <td>0.833333</td>\n",
       "    </tr>\n",
       "    <tr>\n",
       "      <th>corpus/NotSonnets/Z200137669.txt</th>\n",
       "      <td>NotSonnets</td>\n",
       "      <td>0.442241</td>\n",
       "      <td>0.221353</td>\n",
       "      <td>0.178019</td>\n",
       "      <td>0.332600</td>\n",
       "      <td>0.0</td>\n",
       "      <td>0.500000</td>\n",
       "    </tr>\n",
       "    <tr>\n",
       "      <th>corpus/NotSonnets/Z200139458.txt</th>\n",
       "      <td>NotSonnets</td>\n",
       "      <td>0.521884</td>\n",
       "      <td>0.259961</td>\n",
       "      <td>0.262423</td>\n",
       "      <td>0.234806</td>\n",
       "      <td>0.0</td>\n",
       "      <td>0.833333</td>\n",
       "    </tr>\n",
       "    <tr>\n",
       "      <th>corpus/NotSonnets/Z200139509.txt</th>\n",
       "      <td>NotSonnets</td>\n",
       "      <td>0.482544</td>\n",
       "      <td>0.426656</td>\n",
       "      <td>0.489357</td>\n",
       "      <td>0.492774</td>\n",
       "      <td>0.0</td>\n",
       "      <td>0.833333</td>\n",
       "    </tr>\n",
       "  </tbody>\n",
       "</table>\n",
       "</div>"
      ],
      "text/plain": [
       "                                 sample_name  wordfreqs  poesy + wordfreqs  \\\n",
       "corpus/NotSonnets/Z200137254.txt  NotSonnets   0.306367           0.242882   \n",
       "corpus/NotSonnets/Z200137556.txt  NotSonnets   0.343467           0.461445   \n",
       "corpus/NotSonnets/Z200137669.txt  NotSonnets   0.442241           0.221353   \n",
       "corpus/NotSonnets/Z200139458.txt  NotSonnets   0.521884           0.259961   \n",
       "corpus/NotSonnets/Z200139509.txt  NotSonnets   0.482544           0.426656   \n",
       "\n",
       "                                     poesy  poesy (just rhyme)  rule-based  \\\n",
       "corpus/NotSonnets/Z200137254.txt  0.311310            0.562458         0.0   \n",
       "corpus/NotSonnets/Z200137556.txt  0.572219            0.637613         1.0   \n",
       "corpus/NotSonnets/Z200137669.txt  0.178019            0.332600         0.0   \n",
       "corpus/NotSonnets/Z200139458.txt  0.262423            0.234806         0.0   \n",
       "corpus/NotSonnets/Z200139509.txt  0.489357            0.492774         0.0   \n",
       "\n",
       "                                  rule-based (loose)  \n",
       "corpus/NotSonnets/Z200137254.txt            0.500000  \n",
       "corpus/NotSonnets/Z200137556.txt            0.833333  \n",
       "corpus/NotSonnets/Z200137669.txt            0.500000  \n",
       "corpus/NotSonnets/Z200139458.txt            0.833333  \n",
       "corpus/NotSonnets/Z200139509.txt            0.833333  "
      ]
     },
     "execution_count": 26,
     "metadata": {},
     "output_type": "execute_result"
    }
   ],
   "source": [
    "# Probability table now\n",
    "df_probs.head(5)"
   ]
  },
  {
   "cell_type": "markdown",
   "metadata": {},
   "source": [
    "## Comparing Precision/Recall across models"
   ]
  },
  {
   "cell_type": "markdown",
   "metadata": {},
   "source": [
    "### Table of precision/recall values"
   ]
  },
  {
   "cell_type": "code",
   "execution_count": 27,
   "metadata": {},
   "outputs": [],
   "source": [
    "from sklearn.metrics import precision_recall_fscore_support"
   ]
  },
  {
   "cell_type": "code",
   "execution_count": 28,
   "metadata": {},
   "outputs": [],
   "source": [
    "summaryld=[]\n",
    "for col in df_results.columns:\n",
    "    if col==target_col: continue\n",
    "    sdx={}\n",
    "    sdx['precision'],sdx['recall'],sdx['fscore'],sdx['support']=precision_recall_fscore_support(df_results[target_col], df_results[col], labels=['Sonnets'])\n",
    "    for k,v in sdx.items(): sdx[k]=v[0]\n",
    "    sdx['model']=col.replace('_',' ').title()\n",
    "    summaryld+=[sdx]\n",
    "summarydf=pd.DataFrame(summaryld)\n",
    "summarydf=summarydf[['model','precision','recall','fscore']].sort_values('fscore',ascending=False).set_index('model')"
   ]
  },
  {
   "cell_type": "code",
   "execution_count": 29,
   "metadata": {},
   "outputs": [
    {
     "data": {
      "text/html": [
       "<div>\n",
       "<style scoped>\n",
       "    .dataframe tbody tr th:only-of-type {\n",
       "        vertical-align: middle;\n",
       "    }\n",
       "\n",
       "    .dataframe tbody tr th {\n",
       "        vertical-align: top;\n",
       "    }\n",
       "\n",
       "    .dataframe thead th {\n",
       "        text-align: right;\n",
       "    }\n",
       "</style>\n",
       "<table border=\"1\" class=\"dataframe\">\n",
       "  <thead>\n",
       "    <tr style=\"text-align: right;\">\n",
       "      <th></th>\n",
       "      <th>precision</th>\n",
       "      <th>recall</th>\n",
       "      <th>fscore</th>\n",
       "    </tr>\n",
       "    <tr>\n",
       "      <th>model</th>\n",
       "      <th></th>\n",
       "      <th></th>\n",
       "      <th></th>\n",
       "    </tr>\n",
       "  </thead>\n",
       "  <tbody>\n",
       "    <tr>\n",
       "      <th>Poesy + Wordfreqs</th>\n",
       "      <td>0.884</td>\n",
       "      <td>0.822</td>\n",
       "      <td>0.852</td>\n",
       "    </tr>\n",
       "    <tr>\n",
       "      <th>Poesy</th>\n",
       "      <td>0.853</td>\n",
       "      <td>0.801</td>\n",
       "      <td>0.826</td>\n",
       "    </tr>\n",
       "    <tr>\n",
       "      <th>Rule-Based</th>\n",
       "      <td>0.776</td>\n",
       "      <td>0.834</td>\n",
       "      <td>0.804</td>\n",
       "    </tr>\n",
       "    <tr>\n",
       "      <th>Poesy (Just Rhyme)</th>\n",
       "      <td>0.815</td>\n",
       "      <td>0.703</td>\n",
       "      <td>0.755</td>\n",
       "    </tr>\n",
       "    <tr>\n",
       "      <th>Rule-Based (Loose)</th>\n",
       "      <td>0.577</td>\n",
       "      <td>0.969</td>\n",
       "      <td>0.723</td>\n",
       "    </tr>\n",
       "    <tr>\n",
       "      <th>Wordfreqs</th>\n",
       "      <td>0.707</td>\n",
       "      <td>0.700</td>\n",
       "      <td>0.703</td>\n",
       "    </tr>\n",
       "  </tbody>\n",
       "</table>\n",
       "</div>"
      ],
      "text/plain": [
       "                    precision  recall  fscore\n",
       "model                                        \n",
       "Poesy + Wordfreqs       0.884   0.822   0.852\n",
       "Poesy                   0.853   0.801   0.826\n",
       "Rule-Based              0.776   0.834   0.804\n",
       "Poesy (Just Rhyme)      0.815   0.703   0.755\n",
       "Rule-Based (Loose)      0.577   0.969   0.723\n",
       "Wordfreqs               0.707   0.700   0.703"
      ]
     },
     "execution_count": 29,
     "metadata": {},
     "output_type": "execute_result"
    }
   ],
   "source": [
    "summarydf.round(3)"
   ]
  },
  {
   "cell_type": "markdown",
   "metadata": {},
   "source": [
    "### Plotting precision/Recall curves"
   ]
  },
  {
   "cell_type": "code",
   "execution_count": 30,
   "metadata": {},
   "outputs": [],
   "source": [
    "from sklearn.metrics import precision_recall_curve\n",
    "def prcurve(y_true,y_scores):\n",
    "    return precision_recall_curve(list(y_true), y_scores.values, pos_label='Sonnets')"
   ]
  },
  {
   "cell_type": "code",
   "execution_count": 43,
   "metadata": {},
   "outputs": [],
   "source": [
    "import matplotlib.pyplot as plt\n",
    "plt.rcParams['figure.figsize'] = [10, 10]\n",
    "#plt.figure(figsize=(600, ), dpi= 80, facecolor='w', edgecolor='k')\n",
    "\n",
    "def plot_prcurve(y_true,y_scores,label,color='b'):\n",
    "    from sklearn.utils.fixes import signature\n",
    "\n",
    "    precision, recall, _ = prcurve(y_true,y_scores)\n",
    "    from sklearn.metrics import average_precision_score\n",
    "    average_precision = average_precision_score([int(yx=='Sonnets') for yx in y_true], y_scores)\n",
    "    label = label.replace('_prob_sonnet','') + ' (AP=%s)' % round(average_precision,2)\n",
    "    # In matplotlib < 1.5, plt.fill_between does not have a 'step' argument\n",
    "    step_kwargs = ({'step': 'post'}\n",
    "                   if 'step' in signature(plt.fill_between).parameters\n",
    "                   else {})\n",
    "    plt.step(recall, precision, color=color, alpha=1.0,\n",
    "             where='post',label=label)\n",
    "    #plt.fill_between(recall, precision, alpha=0.2, color=color, **step_kwargs)"
   ]
  },
  {
   "cell_type": "code",
   "execution_count": 44,
   "metadata": {},
   "outputs": [
    {
     "data": {
      "image/png": "[encoded data removed]",
      "text/plain": [
       "<Figure size 720x720 with 1 Axes>"
      ]
     },
     "metadata": {
      "needs_background": "light"
     },
     "output_type": "display_data"
    }
   ],
   "source": [
    "#plot_prcurve(df_probs[target_col], df_probs['poesy_prob_sonnet'])\n",
    "colors=['r','b','g','y','k','c','m']\n",
    "for i,col in enumerate(sorted(df_probs)):\n",
    "    if col==target_col: continue\n",
    "    plot_prcurve(df_probs[target_col], df_probs[col],color=colors[i],label=col)\n",
    "plt.xlabel('Recall')\n",
    "plt.ylabel('Precision')\n",
    "plt.ylim([0.0, 1.05])\n",
    "plt.xlim([0.0, 1.0])\n",
    "plt.title('Two-class Precision-Recall Curves\\nfor {nmodel} models predicting sonnets (n={nc1}) vs. non-sonnets (n={nc2})'.format(\n",
    "            nmodel=len(df_probs.columns)-1,nc1=len(df_meta[target_col])/2,nc2=len(df_meta[target_col])/2\n",
    "))\n",
    "plt.legend()\n",
    "plt.savefig('figure.png')\n",
    "plt.show()"
   ]
  },
  {
   "cell_type": "markdown",
   "metadata": {},
   "source": [
    "## Examining features\n",
    "\n",
    "### Which are the top 10 best predictors of sonnets?\n",
    "\n",
    "* Long lines (meter_length_avg_parse and meter_length_avg_line).\n",
    "* Rhyming 5->8 (as in abbaCddC); 6->7 (abbacDDc); 1-4 (AbbA); 2->3 (aBBa); 2->6 (aBbaaBba [Petrarchan])\n",
    "* Having a sonnet rhyme scheme (poesy finds best for rhyme scheme among [a list of rhyme schemes](https://github.com/quadrismegistus/poesy/blob/master/poesy/schemes/rhyme_schemes.txt)."
   ]
  },
  {
   "cell_type": "code",
   "execution_count": 45,
   "metadata": {},
   "outputs": [
    {
     "data": {
      "text/html": [
       "<div>\n",
       "<style scoped>\n",
       "    .dataframe tbody tr th:only-of-type {\n",
       "        vertical-align: middle;\n",
       "    }\n",
       "\n",
       "    .dataframe tbody tr th {\n",
       "        vertical-align: top;\n",
       "    }\n",
       "\n",
       "    .dataframe thead th {\n",
       "        text-align: right;\n",
       "    }\n",
       "</style>\n",
       "<table border=\"1\" class=\"dataframe\">\n",
       "  <thead>\n",
       "    <tr style=\"text-align: right;\">\n",
       "      <th></th>\n",
       "      <th>feat</th>\n",
       "      <th>model</th>\n",
       "      <th>coeff</th>\n",
       "      <th>coeff_abs</th>\n",
       "    </tr>\n",
       "  </thead>\n",
       "  <tbody>\n",
       "    <tr>\n",
       "      <th>1043</th>\n",
       "      <td>meter_length_avg_parse</td>\n",
       "      <td>poesy</td>\n",
       "      <td>0.091</td>\n",
       "      <td>0.091</td>\n",
       "    </tr>\n",
       "    <tr>\n",
       "      <th>1030</th>\n",
       "      <td>meter_length_avg_line</td>\n",
       "      <td>poesy</td>\n",
       "      <td>0.091</td>\n",
       "      <td>0.091</td>\n",
       "    </tr>\n",
       "    <tr>\n",
       "      <th>1081</th>\n",
       "      <td>rhymes_l05-l08</td>\n",
       "      <td>poesy</td>\n",
       "      <td>0.077</td>\n",
       "      <td>0.077</td>\n",
       "    </tr>\n",
       "    <tr>\n",
       "      <th>1107</th>\n",
       "      <td>rhyme_scheme_acc_Sonnet H</td>\n",
       "      <td>poesy</td>\n",
       "      <td>0.062</td>\n",
       "      <td>0.062</td>\n",
       "    </tr>\n",
       "    <tr>\n",
       "      <th>1128</th>\n",
       "      <td>rhymes_l06-l07</td>\n",
       "      <td>poesy</td>\n",
       "      <td>0.056</td>\n",
       "      <td>0.056</td>\n",
       "    </tr>\n",
       "    <tr>\n",
       "      <th>1140</th>\n",
       "      <td>rhymes_l01-l04</td>\n",
       "      <td>poesy</td>\n",
       "      <td>0.055</td>\n",
       "      <td>0.055</td>\n",
       "    </tr>\n",
       "    <tr>\n",
       "      <th>1064</th>\n",
       "      <td>rhymes_l02-l03</td>\n",
       "      <td>poesy</td>\n",
       "      <td>0.053</td>\n",
       "      <td>0.053</td>\n",
       "    </tr>\n",
       "    <tr>\n",
       "      <th>1038</th>\n",
       "      <td>rhyme_scheme_acc_Sonnet, Petrarchan C</td>\n",
       "      <td>poesy</td>\n",
       "      <td>0.050</td>\n",
       "      <td>0.050</td>\n",
       "    </tr>\n",
       "    <tr>\n",
       "      <th>1060</th>\n",
       "      <td>rhymes_l02-l06</td>\n",
       "      <td>poesy</td>\n",
       "      <td>0.049</td>\n",
       "      <td>0.049</td>\n",
       "    </tr>\n",
       "    <tr>\n",
       "      <th>1036</th>\n",
       "      <td>rhyme_scheme_acc_Sonnet, Petrarchan A</td>\n",
       "      <td>poesy</td>\n",
       "      <td>0.049</td>\n",
       "      <td>0.049</td>\n",
       "    </tr>\n",
       "  </tbody>\n",
       "</table>\n",
       "</div>"
      ],
      "text/plain": [
       "                                       feat  model  coeff  coeff_abs\n",
       "1043                 meter_length_avg_parse  poesy  0.091      0.091\n",
       "1030                  meter_length_avg_line  poesy  0.091      0.091\n",
       "1081                         rhymes_l05-l08  poesy  0.077      0.077\n",
       "1107              rhyme_scheme_acc_Sonnet H  poesy  0.062      0.062\n",
       "1128                         rhymes_l06-l07  poesy  0.056      0.056\n",
       "1140                         rhymes_l01-l04  poesy  0.055      0.055\n",
       "1064                         rhymes_l02-l03  poesy  0.053      0.053\n",
       "1038  rhyme_scheme_acc_Sonnet, Petrarchan C  poesy  0.050      0.050\n",
       "1060                         rhymes_l02-l06  poesy  0.049      0.049\n",
       "1036  rhyme_scheme_acc_Sonnet, Petrarchan A  poesy  0.049      0.049"
      ]
     },
     "execution_count": 45,
     "metadata": {},
     "output_type": "execute_result"
    }
   ],
   "source": [
    "df_feats[['feat','model','coeff','coeff_abs']].sort_values('coeff',ascending=False).round(3).head(10)"
   ]
  },
  {
   "cell_type": "markdown",
   "metadata": {},
   "source": [
    "### Which are the top 25 best predictors of non-sonnets?\n",
    "\n",
    "* Having couplets in the poem (many features are successive lines rhyming with each other).\n",
    "* Having the fourth syllable be weak (meter_perc_lines_fourthpos_w), indicating a trochaic-like line, swsW or an anapestic one, wwsW.\n",
    "* Having ternary feet (meter_mpos_ww)."
   ]
  },
  {
   "cell_type": "code",
   "execution_count": 46,
   "metadata": {},
   "outputs": [
    {
     "data": {
      "text/html": [
       "<div>\n",
       "<style scoped>\n",
       "    .dataframe tbody tr th:only-of-type {\n",
       "        vertical-align: middle;\n",
       "    }\n",
       "\n",
       "    .dataframe tbody tr th {\n",
       "        vertical-align: top;\n",
       "    }\n",
       "\n",
       "    .dataframe thead th {\n",
       "        text-align: right;\n",
       "    }\n",
       "</style>\n",
       "<table border=\"1\" class=\"dataframe\">\n",
       "  <thead>\n",
       "    <tr style=\"text-align: right;\">\n",
       "      <th></th>\n",
       "      <th>feat</th>\n",
       "      <th>model</th>\n",
       "      <th>coeff</th>\n",
       "      <th>coeff_abs</th>\n",
       "    </tr>\n",
       "  </thead>\n",
       "  <tbody>\n",
       "    <tr>\n",
       "      <th>1118</th>\n",
       "      <td>rhymes_l11-l12</td>\n",
       "      <td>poesy</td>\n",
       "      <td>-0.084</td>\n",
       "      <td>0.084</td>\n",
       "    </tr>\n",
       "    <tr>\n",
       "      <th>1057</th>\n",
       "      <td>rhyme_scheme_acc_Couplet</td>\n",
       "      <td>poesy</td>\n",
       "      <td>-0.081</td>\n",
       "      <td>0.081</td>\n",
       "    </tr>\n",
       "    <tr>\n",
       "      <th>1100</th>\n",
       "      <td>rhymes_l01-l02</td>\n",
       "      <td>poesy</td>\n",
       "      <td>-0.076</td>\n",
       "      <td>0.076</td>\n",
       "    </tr>\n",
       "    <tr>\n",
       "      <th>1022</th>\n",
       "      <td>rhymes_l05-l06</td>\n",
       "      <td>poesy</td>\n",
       "      <td>-0.070</td>\n",
       "      <td>0.070</td>\n",
       "    </tr>\n",
       "    <tr>\n",
       "      <th>1075</th>\n",
       "      <td>rhymes_l09-l10</td>\n",
       "      <td>poesy</td>\n",
       "      <td>-0.061</td>\n",
       "      <td>0.061</td>\n",
       "    </tr>\n",
       "    <tr>\n",
       "      <th>1150</th>\n",
       "      <td>rhymes_l07-l08</td>\n",
       "      <td>poesy</td>\n",
       "      <td>-0.060</td>\n",
       "      <td>0.060</td>\n",
       "    </tr>\n",
       "    <tr>\n",
       "      <th>1136</th>\n",
       "      <td>rhymes_l03-l04</td>\n",
       "      <td>poesy</td>\n",
       "      <td>-0.057</td>\n",
       "      <td>0.057</td>\n",
       "    </tr>\n",
       "    <tr>\n",
       "      <th>1032</th>\n",
       "      <td>rhymes_l13-l14</td>\n",
       "      <td>poesy</td>\n",
       "      <td>-0.056</td>\n",
       "      <td>0.056</td>\n",
       "    </tr>\n",
       "    <tr>\n",
       "      <th>1146</th>\n",
       "      <td>meter_perc_lines_fourthpos_w</td>\n",
       "      <td>poesy</td>\n",
       "      <td>-0.046</td>\n",
       "      <td>0.046</td>\n",
       "    </tr>\n",
       "    <tr>\n",
       "      <th>1127</th>\n",
       "      <td>meter_mpos_ww</td>\n",
       "      <td>poesy</td>\n",
       "      <td>-0.043</td>\n",
       "      <td>0.043</td>\n",
       "    </tr>\n",
       "  </tbody>\n",
       "</table>\n",
       "</div>"
      ],
      "text/plain": [
       "                              feat  model  coeff  coeff_abs\n",
       "1118                rhymes_l11-l12  poesy -0.084      0.084\n",
       "1057      rhyme_scheme_acc_Couplet  poesy -0.081      0.081\n",
       "1100                rhymes_l01-l02  poesy -0.076      0.076\n",
       "1022                rhymes_l05-l06  poesy -0.070      0.070\n",
       "1075                rhymes_l09-l10  poesy -0.061      0.061\n",
       "1150                rhymes_l07-l08  poesy -0.060      0.060\n",
       "1136                rhymes_l03-l04  poesy -0.057      0.057\n",
       "1032                rhymes_l13-l14  poesy -0.056      0.056\n",
       "1146  meter_perc_lines_fourthpos_w  poesy -0.046      0.046\n",
       "1127                 meter_mpos_ww  poesy -0.043      0.043"
      ]
     },
     "execution_count": 46,
     "metadata": {},
     "output_type": "execute_result"
    }
   ],
   "source": [
    "df_feats[['feat','model','coeff','coeff_abs']].sort_values('coeff',ascending=True).round(3).head(10)"
   ]
  }
 ],
 "metadata": {
  "kernelspec": {
   "display_name": "Python 2",
   "language": "python",
   "name": "python2"
  },
  "language_info": {
   "codemirror_mode": {
    "name": "ipython",
    "version": 2
   },
   "file_extension": ".py",
   "mimetype": "text/x-python",
   "name": "python",
   "nbconvert_exporter": "python",
   "pygments_lexer": "ipython2",
   "version": "2.7.15"
  }
 },
 "nbformat": 4,
 "nbformat_minor": 2
}
