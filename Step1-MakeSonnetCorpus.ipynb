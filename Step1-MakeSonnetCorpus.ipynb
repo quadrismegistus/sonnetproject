{
 "cells": [
  {
   "cell_type": "markdown",
   "metadata": {},
   "source": [
    "# Making poem corpus"
   ]
  },
  {
   "cell_type": "code",
   "execution_count": 43,
   "metadata": {},
   "outputs": [],
   "source": [
    "output_folder='corpus'\n",
    "target_col='sample_name'"
   ]
  },
  {
   "cell_type": "markdown",
   "metadata": {},
   "source": [
    "## Getting sonnet IDs"
   ]
  },
  {
   "cell_type": "code",
   "execution_count": null,
   "metadata": {},
   "outputs": [],
   "source": [
    "# Load ChadwyckPoetry corpus metadata\n",
    "import pandas as pd\n",
    "metadata_fn='/Users/ryan/DH/lit/corpus/chadwyck_poetry/corpus-metadata.ChadwyckPoetry.txt.gz'\n",
    "dfmeta=pd.read_csv(metadata_fn,sep='\\t',encoding='utf-8')\n",
    "dfmeta.head()"
   ]
  },
  {
   "cell_type": "code",
   "execution_count": 22,
   "metadata": {},
   "outputs": [
    {
     "data": {
      "text/plain": [
       "(214542, 103)"
      ]
     },
     "execution_count": 22,
     "metadata": {},
     "output_type": "execute_result"
    }
   ],
   "source": [
    "# Filter and show #rows,#cols\n",
    "dfmeta=dfmeta.loc[dfmeta.id!='']\n",
    "dfmeta.shape"
   ]
  },
  {
   "cell_type": "code",
   "execution_count": 23,
   "metadata": {},
   "outputs": [
    {
     "data": {
      "text/plain": [
       "Sonnet             8468\n",
       "Lyric              3729\n",
       "Ode                2313\n",
       "Heroic couplets    2285\n",
       "Metrical Psalm     2093\n",
       "Hymn               1163\n",
       "Verse epistle       746\n",
       "Pastoral poem       431\n",
       "Ballad              323\n",
       "Dialect poem        266\n",
       "Name: attgenre, dtype: int64"
      ]
     },
     "execution_count": 23,
     "metadata": {},
     "output_type": "execute_result"
    }
   ],
   "source": [
    "# What are the 10 most common genres in the corpus and how often do they occur?\n",
    "dfmeta['attgenre'].value_counts().sort_values(ascending=False).head(10)"
   ]
  },
  {
   "cell_type": "markdown",
   "metadata": {},
   "source": [
    "## Making samples"
   ]
  },
  {
   "cell_type": "code",
   "execution_count": 24,
   "metadata": {},
   "outputs": [],
   "source": [
    "# Load the corpus\n",
    "import lit\n",
    "CP=lit.load_corpus('ChadwyckPoetry')"
   ]
  },
  {
   "cell_type": "code",
   "execution_count": 25,
   "metadata": {},
   "outputs": [
    {
     "name": "stdout",
     "output_type": "stream",
     "text": [
      ">> streaming as tsv: /Users/ryan/DH/lit/corpus/chadwyck_poetry/corpus-metadata.ChadwyckPoetry.txt.gz\n",
      "   done [20.0 seconds]\n"
     ]
    }
   ],
   "source": [
    "# Separate into quarter-centuries, according to when an author was 30 years old (most reliable data)\n",
    "CPgroups = CP.new_grouping()\n",
    "CPgroups.group_by_author_at_30(yearbin=25)"
   ]
  },
  {
   "cell_type": "code",
   "execution_count": 12,
   "metadata": {},
   "outputs": [],
   "source": [
    "# Assign group (quartercentury)\n",
    "dfmeta['group']=[CPgroups.textid2group.get(idx,'') for idx in dfmeta['id']]"
   ]
  },
  {
   "cell_type": "code",
   "execution_count": 26,
   "metadata": {},
   "outputs": [
    {
     "data": {
      "text/plain": [
       "(214542, 103)"
      ]
     },
     "execution_count": 26,
     "metadata": {},
     "output_type": "execute_result"
    }
   ],
   "source": [
    "# Filter for min/max periods and for poems >14 lines\n",
    "dfmeta=dfmeta.loc[dfmeta.group>='1600']\n",
    "dfmeta=dfmeta.loc[dfmeta.group<'2000']\n",
    "dfmeta=dfmeta.loc[dfmeta.num_lines>=14]\n",
    "dfmeta.shape"
   ]
  },
  {
   "cell_type": "code",
   "execution_count": 27,
   "metadata": {},
   "outputs": [
    {
     "data": {
      "text/plain": [
       "(8468, 206074)"
      ]
     },
     "execution_count": 27,
     "metadata": {},
     "output_type": "execute_result"
    }
   ],
   "source": [
    "# Get sonnets/nonsonnets\n",
    "sonnets = dfmeta.loc[dfmeta.attgenre=='Sonnet']\n",
    "notsonnets = dfmeta.loc[dfmeta.attgenre!='Sonnet']\n",
    "len(sonnets),len(notsonnets)"
   ]
  },
  {
   "cell_type": "code",
   "execution_count": 28,
   "metadata": {},
   "outputs": [],
   "source": [
    "# Make a dictionary of {SampleName: Sample}\n",
    "samples = {'Sonnets':sonnets, 'NotSonnets':notsonnets}"
   ]
  },
  {
   "cell_type": "code",
   "execution_count": 29,
   "metadata": {},
   "outputs": [],
   "source": [
    "# Balance the sample between sonnets vs. non-sonnets by quarter-century:\n",
    "# - take an equal number of non/sonnets from each 'group' (quarter-century),\n",
    "# - up to maxlen (50), or only maxlen if allow_less_than_max==False\n",
    "def balance_samples(samples,groupcol='group',maxlen=50,allow_less_than_max=False):\n",
    "    group_types = set()\n",
    "    for sample in samples.values(): group_types|=set(sample[groupcol])\n",
    "    \n",
    "    old=[]\n",
    "    for gt in sorted(group_types):\n",
    "        # initiate\n",
    "        this_sample={}\n",
    "        for sname,sample in samples.items():\n",
    "            sdf=this_sample[sname]=sample.loc[sample[groupcol]==gt]\n",
    "\n",
    "        # get minimum\n",
    "        minlen=min([len(smpl) for smpl in this_sample.values()])\n",
    "        if not minlen: continue\n",
    "        n=minlen if minlen<maxlen else maxlen\n",
    "        \n",
    "        # don't allow minimum?\n",
    "        if not allow_less_than_max and n<maxlen: continue\n",
    "        \n",
    "        # resample\n",
    "        for sname,sample in this_sample.items():\n",
    "            balanced=sample.sample(n=n)\n",
    "            balanced['sample_name']=[sname for idx in balanced['id']]\n",
    "            old+=balanced.to_dict('records')\n",
    "    \n",
    "    return pd.DataFrame(old)"
   ]
  },
  {
   "cell_type": "code",
   "execution_count": 30,
   "metadata": {},
   "outputs": [],
   "source": [
    "# declutter dataframe\n",
    "def clean_final(df):\n",
    "    import os\n",
    "    df['fn']=[os.path.join(output_folder,row['sample_name'],row['idz']+'.txt') for ind,row in df.iterrows()]\n",
    "    df['l']=[unicode(l).replace('&indent;','') for l in df['l']]\n",
    "    df=df[['sample_name','id','idz','group','fn','title','author','year','l','num_lines']].set_index('fn')\n",
    "    return df"
   ]
  },
  {
   "cell_type": "code",
   "execution_count": 32,
   "metadata": {},
   "outputs": [],
   "source": [
    "# Create a decluttered, balanced dataframe\n",
    "final_df=clean_final(balance_samples(samples))"
   ]
  },
  {
   "cell_type": "code",
   "execution_count": 33,
   "metadata": {},
   "outputs": [
    {
     "data": {
      "text/plain": [
       "NotSonnets    650\n",
       "Sonnets       650\n",
       "Name: sample_name, dtype: int64"
      ]
     },
     "execution_count": 33,
     "metadata": {},
     "output_type": "execute_result"
    }
   ],
   "source": [
    "# How many sonnets and nonsonnets now?\n",
    "final_df['sample_name'].value_counts()"
   ]
  },
  {
   "cell_type": "code",
   "execution_count": 34,
   "metadata": {},
   "outputs": [
    {
     "data": {
      "text/plain": [
       "1900-1924    100\n",
       "1850-1874    100\n",
       "1650-1674    100\n",
       "1775-1799    100\n",
       "1800-1824    100\n",
       "1925-1949    100\n",
       "1825-1849    100\n",
       "1875-1899    100\n",
       "1950-1974    100\n",
       "1725-1749    100\n",
       "1600-1624    100\n",
       "1625-1649    100\n",
       "1750-1774    100\n",
       "Name: group, dtype: int64"
      ]
     },
     "execution_count": 34,
     "metadata": {},
     "output_type": "execute_result"
    }
   ],
   "source": [
    "# How many poems per period?\n",
    "final_df['group'].value_counts()"
   ]
  },
  {
   "cell_type": "code",
   "execution_count": 36,
   "metadata": {},
   "outputs": [
    {
     "name": "stdout",
     "output_type": "stream",
     "text": [
      ">> saved: corpus/metadata.txt\n"
     ]
    }
   ],
   "source": [
    "# Save this dataframe\n",
    "import os\n",
    "ofn=os.path.join(output_folder,'metadata.txt')\n",
    "final_df.to_csv(ofn, sep='\\t',encoding='utf-8')\n",
    "print '>> saved:',ofn"
   ]
  },
  {
   "cell_type": "markdown",
   "metadata": {},
   "source": [
    "## Saving corpus"
   ]
  },
  {
   "cell_type": "code",
   "execution_count": 51,
   "metadata": {},
   "outputs": [
    {
     "name": "stdout",
     "output_type": "stream",
     "text": [
      "\n"
     ]
    }
   ],
   "source": [
    "# Save the corpus as text files in corpus/Sonnets/Z...txt\n",
    "def save_corpus(df,max_num_lines=14,output_folder=output_folder):\n",
    "    import os\n",
    "    from lit import tools\n",
    "    for sname,smpl in df.groupby(target_col):\n",
    "        ofolder=os.path.join(output_folder,sname)\n",
    "        for ofnfn,idx in zip(smpl.index,smpl.id):\n",
    "            text=CP.textd[idx]\n",
    "            lines=text.text_plain().strip().split('\\n')\n",
    "            print ofnfn,len(lines)\n",
    "            lines_to_keep=[]\n",
    "            for line in lines:\n",
    "                if len([x for x in lines_to_keep if x])>=max_num_lines: break\n",
    "                lines_to_keep+=[line]\n",
    "            odir=os.path.dirname(ofnfn)\n",
    "            if not os.path.exists(odir): os.makedirs(odir)\n",
    "            tools.write2(ofnfn,'\\n'.join(lines_to_keep))"
   ]
  },
  {
   "cell_type": "code",
   "execution_count": 52,
   "metadata": {},
   "outputs": [],
   "source": [
    "#final_df"
   ]
  },
  {
   "cell_type": "code",
   "execution_count": 54,
   "metadata": {},
   "outputs": [],
   "source": [
    "# save_corpus(final_df)\n",
    "# last run: 2/11 17:44"
   ]
  },
  {
   "cell_type": "code",
   "execution_count": null,
   "metadata": {},
   "outputs": [],
   "source": []
  }
 ],
 "metadata": {
  "kernelspec": {
   "display_name": "Python 2",
   "language": "python",
   "name": "python2"
  },
  "language_info": {
   "codemirror_mode": {
    "name": "ipython",
    "version": 2
   },
   "file_extension": ".py",
   "mimetype": "text/x-python",
   "name": "python",
   "nbconvert_exporter": "python",
   "pygments_lexer": "ipython2",
   "version": "2.7.15"
  }
 },
 "nbformat": 4,
 "nbformat_minor": 2
}
