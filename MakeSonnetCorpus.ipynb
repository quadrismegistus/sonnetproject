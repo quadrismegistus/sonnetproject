{
 "cells": [
  {
   "cell_type": "markdown",
   "metadata": {},
   "source": [
    "# Making poem corpus"
   ]
  },
  {
   "cell_type": "code",
   "execution_count": 1,
   "metadata": {},
   "outputs": [],
   "source": [
    "output_folder='corpus'"
   ]
  },
  {
   "cell_type": "markdown",
   "metadata": {},
   "source": [
    "## Getting sonnet IDs"
   ]
  },
  {
   "cell_type": "code",
   "execution_count": 2,
   "metadata": {},
   "outputs": [
    {
     "name": "stderr",
     "output_type": "stream",
     "text": [
      "/Users/ryan/anaconda2/lib/python2.7/site-packages/IPython/core/interactiveshell.py:2714: DtypeWarning: Columns (11,14,24,30,32,36,39,43,44,47,49,53,54,56,57,66,69,70,75,81,83,92,94,96) have mixed types. Specify dtype option on import or set low_memory=False.\n",
      "  interactivity=interactivity, compiler=compiler, result=result)\n"
     ]
    },
    {
     "data": {
      "text/plain": [
       "(336180, 102)"
      ]
     },
     "execution_count": 2,
     "metadata": {},
     "output_type": "execute_result"
    }
   ],
   "source": [
    "import pandas as pd\n",
    "metadata_fn='/Users/ryan/DH/lit/corpus/chadwyck_poetry/corpus-metadata.ChadwyckPoetry.txt.gz'\n",
    "dfmeta=pd.read_csv(metadata_fn,sep='\\t',encoding='utf-8')\n",
    "dfmeta.shape"
   ]
  },
  {
   "cell_type": "code",
   "execution_count": 3,
   "metadata": {},
   "outputs": [
    {
     "data": {
      "text/plain": [
       "(336180, 102)"
      ]
     },
     "execution_count": 3,
     "metadata": {},
     "output_type": "execute_result"
    }
   ],
   "source": [
    "dfmeta=dfmeta.loc[dfmeta.id!='']\n",
    "dfmeta.shape"
   ]
  },
  {
   "cell_type": "code",
   "execution_count": 4,
   "metadata": {},
   "outputs": [
    {
     "data": {
      "text/plain": [
       "Sonnet             10136\n",
       "Lyric               5153\n",
       "Heroic couplets     4353\n",
       "Ballad              3181\n",
       "Metrical Psalm      2987\n",
       "Ode                 2577\n",
       "Epigram             1246\n",
       "Hymn                1232\n",
       "Verse epistle        895\n",
       "Epitaph              804\n",
       "Name: attgenre, dtype: int64"
      ]
     },
     "execution_count": 4,
     "metadata": {},
     "output_type": "execute_result"
    }
   ],
   "source": [
    "#dfmeta.groupby('attgenre').count()\n",
    "dfmeta['attgenre'].value_counts().sort_values(ascending=False).head(10)"
   ]
  },
  {
   "cell_type": "markdown",
   "metadata": {},
   "source": [
    "## Making samples"
   ]
  },
  {
   "cell_type": "code",
   "execution_count": 5,
   "metadata": {},
   "outputs": [
    {
     "ename": "SyntaxError",
     "evalue": "invalid syntax (corpus.py, line 325)",
     "output_type": "error",
     "traceback": [
      "\u001b[0;36m  File \u001b[0;32m\"/Users/ryan/DH/lit/corpus/corpus.py\"\u001b[0;36m, line \u001b[0;32m325\u001b[0m\n\u001b[0;31m    if\u001b[0m\n\u001b[0m      ^\u001b[0m\n\u001b[0;31mSyntaxError\u001b[0m\u001b[0;31m:\u001b[0m invalid syntax\n"
     ]
    }
   ],
   "source": [
    "## Divide into groups\n",
    "import lit\n",
    "CP=lit.load_corpus('ChadwyckPoetry')"
   ]
  },
  {
   "cell_type": "code",
   "execution_count": null,
   "metadata": {},
   "outputs": [],
   "source": [
    "CPgroups = CP.new_grouping()\n",
    "CPgroups.group_by_author_at_30(yearbin=25)"
   ]
  },
  {
   "cell_type": "code",
   "execution_count": null,
   "metadata": {},
   "outputs": [],
   "source": [
    "dfmeta['group']=[CPgroups.textid2group.get(idx,'') for idx in dfmeta['id']]"
   ]
  },
  {
   "cell_type": "code",
   "execution_count": null,
   "metadata": {},
   "outputs": [],
   "source": [
    "# filtering\n",
    "dfmeta=dfmeta.loc[dfmeta.group>='1600']\n",
    "dfmeta=dfmeta.loc[dfmeta.group<'2000']\n",
    "dfmeta=dfmeta.loc[dfmeta.num_lines>=14]\n",
    "#dfmeta['file_exists']=[CP.textd[idx].exists for idx in dfmeta['id']]\n",
    "#dfmeta=dfmeta.loc[dfmeta['file_exists']==True]\n",
    "dfmeta.shape"
   ]
  },
  {
   "cell_type": "code",
   "execution_count": null,
   "metadata": {},
   "outputs": [],
   "source": [
    "sonnets = dfmeta.loc[dfmeta.attgenre=='Sonnet']\n",
    "notsonnets = dfmeta.loc[dfmeta.attgenre!='Sonnet']"
   ]
  },
  {
   "cell_type": "code",
   "execution_count": null,
   "metadata": {},
   "outputs": [],
   "source": [
    "samples = {\n",
    "    'Sonnets':sonnets,\n",
    "    'NotSonnets':notsonnets\n",
    "}"
   ]
  },
  {
   "cell_type": "code",
   "execution_count": null,
   "metadata": {},
   "outputs": [],
   "source": [
    "def balance_samples(samples,groupcol='group',maxlen=50):\n",
    "    group_types = set()\n",
    "    for sample in samples.values(): group_types|=set(sample[groupcol])\n",
    "    \n",
    "    old=[]\n",
    "    for gt in sorted(group_types):\n",
    "        # initiate\n",
    "        this_sample={}\n",
    "        for sname,sample in samples.items():\n",
    "            sdf=this_sample[sname]=sample.loc[sample[groupcol]==gt]\n",
    "\n",
    "        # get minimum\n",
    "        minlen=min([len(smpl) for smpl in this_sample.values()])\n",
    "        if not minlen: continue\n",
    "        n=minlen if minlen<maxlen else maxlen\n",
    "        \n",
    "        # don't allow minimum?\n",
    "        if n<maxlen: continue\n",
    "        \n",
    "        # resample\n",
    "        for sname,sample in this_sample.items():\n",
    "            balanced=sample.sample(n=n)\n",
    "            balanced['sample_name']=[sname for idx in balanced['id']]\n",
    "            old+=balanced.to_dict('records')\n",
    "    \n",
    "    return pd.DataFrame(old)\n"
   ]
  },
  {
   "cell_type": "code",
   "execution_count": null,
   "metadata": {},
   "outputs": [],
   "source": [
    "def clean_final(df):\n",
    "    import os\n",
    "    df['fn']=[os.path.join(output_folder,row['sample_name'],row['idz']+'.txt') for ind,row in df.iterrows()]\n",
    "    df['l']=[unicode(l).replace('&indent;','') for l in df['l']]\n",
    "    df=df[['sample_name','id','idz','group','fn','title','author','year','l','num_lines']].set_index('fn')\n",
    "    return df"
   ]
  },
  {
   "cell_type": "code",
   "execution_count": null,
   "metadata": {},
   "outputs": [],
   "source": [
    "final_df=clean_final(balance_samples(samples))"
   ]
  },
  {
   "cell_type": "code",
   "execution_count": null,
   "metadata": {},
   "outputs": [],
   "source": [
    "final_df['sample_name'].value_counts()"
   ]
  },
  {
   "cell_type": "code",
   "execution_count": null,
   "metadata": {},
   "outputs": [],
   "source": [
    "final_df['group'].value_counts()"
   ]
  },
  {
   "cell_type": "code",
   "execution_count": null,
   "metadata": {},
   "outputs": [],
   "source": [
    "import os\n",
    "ofn=os.path.join(output_folder,'metadata.txt')\n",
    "final_df.to_csv(ofn, sep='\\t',encoding='utf-8')"
   ]
  },
  {
   "cell_type": "markdown",
   "metadata": {},
   "source": [
    "## Saving corpus"
   ]
  },
  {
   "cell_type": "code",
   "execution_count": null,
   "metadata": {},
   "outputs": [],
   "source": [
    "def save_corpus(df,max_num_lines=14,output_folder=output_folder):\n",
    "    import os\n",
    "    from lit import tools\n",
    "    for sname,smpl in df.groupby('sample_name'):\n",
    "        ofolder=os.path.join(output_folder,sname)\n",
    "        for ofnfn,idx in zip(smpl.index,smpl.id):\n",
    "            text=CP.textd[idx]\n",
    "            lines=text.text_plain().strip().split('\\n')\n",
    "            lines_to_keep=[]\n",
    "            for line in lines:\n",
    "                if len([x for x in lines_to_keep if x])>=max_num_lines: break\n",
    "                lines_to_keep+=[line]\n",
    "            odir=os.path.dirname(ofnfn)\n",
    "            if not os.path.exists(odir): os.makedirs(odir)\n",
    "            tools.write2(ofnfn,'\\n'.join(lines_to_keep))"
   ]
  },
  {
   "cell_type": "code",
   "execution_count": null,
   "metadata": {},
   "outputs": [],
   "source": [
    "save_corpus(final_df)"
   ]
  },
  {
   "cell_type": "code",
   "execution_count": null,
   "metadata": {},
   "outputs": [],
   "source": []
  },
  {
   "cell_type": "code",
   "execution_count": null,
   "metadata": {},
   "outputs": [],
   "source": []
  }
 ],
 "metadata": {
  "kernelspec": {
   "display_name": "Python 2",
   "language": "python",
   "name": "python2"
  },
  "language_info": {
   "codemirror_mode": {
    "name": "ipython",
    "version": 2
   },
   "file_extension": ".py",
   "mimetype": "text/x-python",
   "name": "python",
   "nbconvert_exporter": "python",
   "pygments_lexer": "ipython2",
   "version": "2.7.15"
  }
 },
 "nbformat": 4,
 "nbformat_minor": 2
}
