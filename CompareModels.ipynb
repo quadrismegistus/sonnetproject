{
 "cells": [
  {
   "cell_type": "markdown",
   "metadata": {},
   "source": [
    "# Compare models"
   ]
  },
  {
   "cell_type": "markdown",
   "metadata": {},
   "source": [
    "## Loading feature sets"
   ]
  },
  {
   "cell_type": "code",
   "execution_count": 1,
   "metadata": {},
   "outputs": [],
   "source": [
    "# defining constants\n",
    "corpus_folder='corpus'\n",
    "metadata_fn='corpus/metadata.txt'\n",
    "target_col='sample_name'"
   ]
  },
  {
   "cell_type": "code",
   "execution_count": 2,
   "metadata": {},
   "outputs": [],
   "source": [
    "# open all metadata and featuresets\n",
    "import pandas as pd\n",
    "df_meta=pd.read_csv(metadata_fn,encoding='utf-8',sep='\\t').set_index('fn')\n",
    "df_feat_poesy = pd.read_csv('featuresets/data.feats.poesy.sonnets-vs-nonsonnets.txt',encoding='utf-8',sep='\\t').set_index('fn')\n",
    "df_feat_freqs = pd.read_csv('featuresets/data.feats.wordfreqs.sonnets-vs-nonsonnets.txt',encoding='utf-8',sep='\\t').set_index('_fn')\n",
    "ALL_DFS = [df_meta,df_feat_freqs,df_feat_poesy]\n",
    "FEAT_DFs = [df_feat_freqs,df_feat_poesy]"
   ]
  },
  {
   "cell_type": "code",
   "execution_count": 3,
   "metadata": {},
   "outputs": [],
   "source": [
    "# hack, fix for wrong path\n",
    "for df in ALL_DFS:\n",
    "    df.index = [unicode(idx).replace('corpus2/','corpus/') for idx in df.index]"
   ]
  },
  {
   "cell_type": "code",
   "execution_count": 4,
   "metadata": {},
   "outputs": [],
   "source": [
    "df_all = df_meta.join(df_feat_poesy,rsuffix='_poesy',how='inner').join(df_feat_freqs,rsuffix='_freqs',how='inner')\n",
    "shared_index = [idx for idx in df_all.index if type(df_meta.loc[idx][target_col])==unicode]"
   ]
  },
  {
   "cell_type": "code",
   "execution_count": 5,
   "metadata": {},
   "outputs": [
    {
     "data": {
      "text/plain": [
       "1280"
      ]
     },
     "execution_count": 5,
     "metadata": {},
     "output_type": "execute_result"
    }
   ],
   "source": [
    "len(shared_index)"
   ]
  },
  {
   "cell_type": "markdown",
   "metadata": {},
   "source": [
    "## Classify!"
   ]
  },
  {
   "cell_type": "code",
   "execution_count": 128,
   "metadata": {},
   "outputs": [],
   "source": [
    "from sklearn.linear_model import LogisticRegression\n",
    "from sklearn.model_selection import cross_val_predict,cross_val_score\n",
    "from sklearn.metrics import classification_report\n",
    "from sklearn.model_selection import LeaveOneOut\n",
    "import numpy as np\n",
    "\n",
    "def classify(X,y,return_probs=False):\n",
    "    loo=LeaveOneOut()\n",
    "    all_predictions=[]\n",
    "    for train_index, test_index in loo.split(X):\n",
    "        clf = LogisticRegression()\n",
    "        X_train, X_test = X[train_index], X[test_index]\n",
    "        y_train, y_test = y[train_index], y[test_index]\n",
    "    \n",
    "        clf.fit(X_train,y_train)\n",
    "        if return_probs:\n",
    "            predictions=clf.predict_proba(X_test)\n",
    "            prediction=predictions[0][1]\n",
    "        else:\n",
    "            predictions=clf.predict(X_test)\n",
    "            prediction=predictions[0]\n",
    "        all_predictions+=[prediction]\n",
    "    return all_predictions"
   ]
  },
  {
   "cell_type": "code",
   "execution_count": 129,
   "metadata": {},
   "outputs": [],
   "source": [
    "def classify_feat_df(df_feat,return_probs=False):\n",
    "    y=np.array([df_meta.loc[idx][target_col] for idx in shared_index])\n",
    "    X=df_feat.loc[shared_index].select_dtypes('number').fillna(0).values\n",
    "    return classify(X,y,return_probs=return_probs)"
   ]
  },
  {
   "cell_type": "code",
   "execution_count": 76,
   "metadata": {},
   "outputs": [],
   "source": [
    "df_results=pd.DataFrame(index=shared_index)\n",
    "df_results[target_col]=df_meta.loc[shared_index][target_col]"
   ]
  },
  {
   "cell_type": "code",
   "execution_count": 77,
   "metadata": {},
   "outputs": [
    {
     "name": "stdout",
     "output_type": "stream",
     "text": [
      ">> accuracy: 0.6515625\n"
     ]
    }
   ],
   "source": [
    "df_results['prediction_freqs']=classify_feat_df(df_feat_freqs)"
   ]
  },
  {
   "cell_type": "code",
   "execution_count": 78,
   "metadata": {},
   "outputs": [
    {
     "name": "stdout",
     "output_type": "stream",
     "text": [
      ">> accuracy: 0.84453125\n"
     ]
    }
   ],
   "source": [
    "df_results['prediction_poesy']=classify_feat_df(df_feat_poesy)"
   ]
  },
  {
   "cell_type": "code",
   "execution_count": 79,
   "metadata": {},
   "outputs": [
    {
     "name": "stdout",
     "output_type": "stream",
     "text": [
      ">> accuracy: 0.81875\n"
     ]
    }
   ],
   "source": [
    "df_results['prediction_poesy+freqs']=classify_feat_df(df_feat_poesy.loc[shared_index].join(df_feat_freqs.loc[shared_index]))"
   ]
  },
  {
   "cell_type": "markdown",
   "metadata": {},
   "source": [
    "## Rule-based model"
   ]
  },
  {
   "cell_type": "code",
   "execution_count": 87,
   "metadata": {},
   "outputs": [],
   "source": [
    "def poesy_rule_based_classifier_for_sonnets(row):\n",
    "    if row['num_lines']!=14: return 'NotSonnets'\n",
    "    if row['meter_type_scheme']!='iambic': return 'NotSonnets'\n",
    "    if row['beat_scheme_repr']!='Pentameter': return 'NotSonnets'\n",
    "    if not 'sonnet' in row['rhyme_scheme_name'].lower(): return 'NotSonnets'\n",
    "    return 'Sonnets'"
   ]
  },
  {
   "cell_type": "code",
   "execution_count": 185,
   "metadata": {},
   "outputs": [],
   "source": [
    "def loose_poesy_rule_based_classifier_for_sonnets(row,certainty_threshold=0.75,return_probs=False):\n",
    "    counts_in_its_favor = []\n",
    "    counts_in_its_favor += [row['num_lines']==14]\n",
    "    counts_in_its_favor += [row['meter_type_scheme']=='iambic']\n",
    "    counts_in_its_favor += [row['beat_scheme_repr']=='Pentameter']\n",
    "    counts_in_its_favor += ['sonnet' in unicode(row['rhyme_scheme_name']).lower()]\n",
    "    counts_in_its_favor += ['sonnet' in unicode(row['rhyme_scheme_name']).lower()] # counts for double\n",
    "    \n",
    "    counts = [int(x) for x in counts_in_its_favor]\n",
    "    certainty = sum(counts)/float(len(counts)) if counts else 0.0\n",
    "    if return_probs: return certainty\n",
    "    return 'Sonnets' if certainty>certainty_threshold else 'NotSonnets'"
   ]
  },
  {
   "cell_type": "code",
   "execution_count": 102,
   "metadata": {},
   "outputs": [],
   "source": [
    "df_results['prediction_rule-based']=[poesy_rule_based_classifier_for_sonnets(row) for ind,row in df_feat_poesy.loc[shared_index].iterrows()]"
   ]
  },
  {
   "cell_type": "code",
   "execution_count": 103,
   "metadata": {},
   "outputs": [],
   "source": [
    "df_results['prediction_loosely_rule-based']=[loose_poesy_rule_based_classifier_for_sonnets(row) for ind,row in df_feat_poesy.loc[shared_index].iterrows()]"
   ]
  },
  {
   "cell_type": "code",
   "execution_count": 104,
   "metadata": {},
   "outputs": [],
   "source": [
    "#df_results"
   ]
  },
  {
   "cell_type": "markdown",
   "metadata": {},
   "source": [
    "## Compare precision/recall"
   ]
  },
  {
   "cell_type": "code",
   "execution_count": 105,
   "metadata": {},
   "outputs": [],
   "source": [
    "from sklearn.metrics import precision_recall_fscore_support"
   ]
  },
  {
   "cell_type": "code",
   "execution_count": 106,
   "metadata": {},
   "outputs": [],
   "source": [
    "summaryld=[]\n",
    "for col in df_results.columns:\n",
    "    if col==target_col: continue\n",
    "    sdx={}\n",
    "    sdx['precision'],sdx['recall'],sdx['fscore'],sdx['support']=precision_recall_fscore_support(df_results[target_col], df_results[col], labels=['Sonnets'])\n",
    "    for k,v in sdx.items(): sdx[k]=v[0]\n",
    "    sdx['model']=col.replace('prediction_','').replace('_',' ').title()\n",
    "    summaryld+=[sdx]\n",
    "summarydf=pd.DataFrame(summaryld)\n",
    "summarydf=summarydf[['model','precision','recall','fscore']].sort_values('fscore',ascending=False).set_index('model')"
   ]
  },
  {
   "cell_type": "code",
   "execution_count": 107,
   "metadata": {},
   "outputs": [
    {
     "data": {
      "text/html": [
       "<div>\n",
       "<style scoped>\n",
       "    .dataframe tbody tr th:only-of-type {\n",
       "        vertical-align: middle;\n",
       "    }\n",
       "\n",
       "    .dataframe tbody tr th {\n",
       "        vertical-align: top;\n",
       "    }\n",
       "\n",
       "    .dataframe thead th {\n",
       "        text-align: right;\n",
       "    }\n",
       "</style>\n",
       "<table border=\"1\" class=\"dataframe\">\n",
       "  <thead>\n",
       "    <tr style=\"text-align: right;\">\n",
       "      <th></th>\n",
       "      <th>precision</th>\n",
       "      <th>recall</th>\n",
       "      <th>fscore</th>\n",
       "    </tr>\n",
       "    <tr>\n",
       "      <th>model</th>\n",
       "      <th></th>\n",
       "      <th></th>\n",
       "      <th></th>\n",
       "    </tr>\n",
       "  </thead>\n",
       "  <tbody>\n",
       "    <tr>\n",
       "      <th>Poesy</th>\n",
       "      <td>0.825</td>\n",
       "      <td>0.873</td>\n",
       "      <td>0.848</td>\n",
       "    </tr>\n",
       "    <tr>\n",
       "      <th>Poesy+Freqs</th>\n",
       "      <td>0.814</td>\n",
       "      <td>0.824</td>\n",
       "      <td>0.819</td>\n",
       "    </tr>\n",
       "    <tr>\n",
       "      <th>Loosely Rule-Based</th>\n",
       "      <td>0.717</td>\n",
       "      <td>0.840</td>\n",
       "      <td>0.773</td>\n",
       "    </tr>\n",
       "    <tr>\n",
       "      <th>Rule-Based</th>\n",
       "      <td>0.887</td>\n",
       "      <td>0.605</td>\n",
       "      <td>0.720</td>\n",
       "    </tr>\n",
       "    <tr>\n",
       "      <th>Freqs</th>\n",
       "      <td>0.648</td>\n",
       "      <td>0.656</td>\n",
       "      <td>0.652</td>\n",
       "    </tr>\n",
       "  </tbody>\n",
       "</table>\n",
       "</div>"
      ],
      "text/plain": [
       "                    precision  recall  fscore\n",
       "model                                        \n",
       "Poesy                   0.825   0.873   0.848\n",
       "Poesy+Freqs             0.814   0.824   0.819\n",
       "Loosely Rule-Based      0.717   0.840   0.773\n",
       "Rule-Based              0.887   0.605   0.720\n",
       "Freqs                   0.648   0.656   0.652"
      ]
     },
     "execution_count": 107,
     "metadata": {},
     "output_type": "execute_result"
    }
   ],
   "source": [
    "summarydf.round(3)"
   ]
  },
  {
   "cell_type": "markdown",
   "metadata": {},
   "source": [
    "## Precision/Recall curves"
   ]
  },
  {
   "cell_type": "code",
   "execution_count": 325,
   "metadata": {},
   "outputs": [],
   "source": [
    "df_probs=pd.DataFrame(index=shared_index)"
   ]
  },
  {
   "cell_type": "code",
   "execution_count": 326,
   "metadata": {},
   "outputs": [],
   "source": [
    "df_probs['poesy_prob_sonnet']=classify_feat_df(df_feat_poesy,return_probs=True)"
   ]
  },
  {
   "cell_type": "code",
   "execution_count": 327,
   "metadata": {},
   "outputs": [],
   "source": [
    "df_probs['freqs_prob_sonnet']=classify_feat_df(df_feat_freqs,return_probs=True)"
   ]
  },
  {
   "cell_type": "code",
   "execution_count": 328,
   "metadata": {},
   "outputs": [],
   "source": [
    "df_probs['loosely_rule-based_prob_sonnet']=[\n",
    "    loose_poesy_rule_based_classifier_for_sonnets(row,return_probs=True)\n",
    "    for ind,row in df_feat_poesy.loc[shared_index].iterrows()\n",
    "]"
   ]
  },
  {
   "cell_type": "code",
   "execution_count": 329,
   "metadata": {},
   "outputs": [],
   "source": [
    "df_probs['rule-based_prob_sonnet']=[\n",
    "    float(int(poesy_rule_based_classifier_for_sonnets(row)=='Sonnets'))\n",
    "    for ind,row in df_feat_poesy.loc[shared_index].iterrows()\n",
    "]"
   ]
  },
  {
   "cell_type": "code",
   "execution_count": 330,
   "metadata": {},
   "outputs": [],
   "source": [
    "df_probs[target_col]=df_meta.loc[shared_index][target_col]"
   ]
  },
  {
   "cell_type": "code",
   "execution_count": 331,
   "metadata": {},
   "outputs": [
    {
     "data": {
      "text/html": [
       "<div>\n",
       "<style scoped>\n",
       "    .dataframe tbody tr th:only-of-type {\n",
       "        vertical-align: middle;\n",
       "    }\n",
       "\n",
       "    .dataframe tbody tr th {\n",
       "        vertical-align: top;\n",
       "    }\n",
       "\n",
       "    .dataframe thead th {\n",
       "        text-align: right;\n",
       "    }\n",
       "</style>\n",
       "<table border=\"1\" class=\"dataframe\">\n",
       "  <thead>\n",
       "    <tr style=\"text-align: right;\">\n",
       "      <th></th>\n",
       "      <th>poesy_prob_sonnet</th>\n",
       "      <th>freqs_prob_sonnet</th>\n",
       "      <th>loosely_rule-based_prob_sonnet</th>\n",
       "      <th>rule-based_prob_sonnet</th>\n",
       "      <th>sample_name</th>\n",
       "    </tr>\n",
       "  </thead>\n",
       "  <tbody>\n",
       "    <tr>\n",
       "      <th>corpus/NotSonnets/Z200132903.txt</th>\n",
       "      <td>0.000698</td>\n",
       "      <td>0.180874</td>\n",
       "      <td>0.6</td>\n",
       "      <td>0.0</td>\n",
       "      <td>NotSonnets</td>\n",
       "    </tr>\n",
       "    <tr>\n",
       "      <th>corpus/NotSonnets/Z200136310.txt</th>\n",
       "      <td>0.015533</td>\n",
       "      <td>0.001080</td>\n",
       "      <td>0.2</td>\n",
       "      <td>0.0</td>\n",
       "      <td>NotSonnets</td>\n",
       "    </tr>\n",
       "    <tr>\n",
       "      <th>corpus/NotSonnets/Z200136454.txt</th>\n",
       "      <td>0.698980</td>\n",
       "      <td>0.038952</td>\n",
       "      <td>1.0</td>\n",
       "      <td>1.0</td>\n",
       "      <td>NotSonnets</td>\n",
       "    </tr>\n",
       "    <tr>\n",
       "      <th>corpus/NotSonnets/Z200137154.txt</th>\n",
       "      <td>0.048315</td>\n",
       "      <td>0.936111</td>\n",
       "      <td>0.4</td>\n",
       "      <td>0.0</td>\n",
       "      <td>NotSonnets</td>\n",
       "    </tr>\n",
       "    <tr>\n",
       "      <th>corpus/NotSonnets/Z200145428.txt</th>\n",
       "      <td>0.075615</td>\n",
       "      <td>0.963485</td>\n",
       "      <td>0.4</td>\n",
       "      <td>0.0</td>\n",
       "      <td>NotSonnets</td>\n",
       "    </tr>\n",
       "  </tbody>\n",
       "</table>\n",
       "</div>"
      ],
      "text/plain": [
       "                                  poesy_prob_sonnet  freqs_prob_sonnet  \\\n",
       "corpus/NotSonnets/Z200132903.txt           0.000698           0.180874   \n",
       "corpus/NotSonnets/Z200136310.txt           0.015533           0.001080   \n",
       "corpus/NotSonnets/Z200136454.txt           0.698980           0.038952   \n",
       "corpus/NotSonnets/Z200137154.txt           0.048315           0.936111   \n",
       "corpus/NotSonnets/Z200145428.txt           0.075615           0.963485   \n",
       "\n",
       "                                  loosely_rule-based_prob_sonnet  \\\n",
       "corpus/NotSonnets/Z200132903.txt                             0.6   \n",
       "corpus/NotSonnets/Z200136310.txt                             0.2   \n",
       "corpus/NotSonnets/Z200136454.txt                             1.0   \n",
       "corpus/NotSonnets/Z200137154.txt                             0.4   \n",
       "corpus/NotSonnets/Z200145428.txt                             0.4   \n",
       "\n",
       "                                  rule-based_prob_sonnet sample_name  \n",
       "corpus/NotSonnets/Z200132903.txt                     0.0  NotSonnets  \n",
       "corpus/NotSonnets/Z200136310.txt                     0.0  NotSonnets  \n",
       "corpus/NotSonnets/Z200136454.txt                     1.0  NotSonnets  \n",
       "corpus/NotSonnets/Z200137154.txt                     0.0  NotSonnets  \n",
       "corpus/NotSonnets/Z200145428.txt                     0.0  NotSonnets  "
      ]
     },
     "execution_count": 331,
     "metadata": {},
     "output_type": "execute_result"
    }
   ],
   "source": [
    "df_probs.head()"
   ]
  },
  {
   "cell_type": "code",
   "execution_count": 332,
   "metadata": {},
   "outputs": [],
   "source": [
    "from sklearn.metrics import precision_recall_curve\n",
    "def prcurve(y_true,y_scores):\n",
    "    return precision_recall_curve(list(y_true), y_scores.values, pos_label='Sonnets')"
   ]
  },
  {
   "cell_type": "code",
   "execution_count": 333,
   "metadata": {},
   "outputs": [],
   "source": [
    "#prcurve(df_probs[target_col], df_probs['poesy_prob_sonnet'])"
   ]
  },
  {
   "cell_type": "code",
   "execution_count": 334,
   "metadata": {},
   "outputs": [],
   "source": [
    "import matplotlib.pyplot as plt\n",
    "plt.rcParams['figure.figsize'] = [12, 7]\n",
    "#plt.figure(figsize=(600, ), dpi= 80, facecolor='w', edgecolor='k')\n",
    "\n",
    "def plot_prcurve(y_true,y_scores,label,color='b'):\n",
    "    from sklearn.utils.fixes import signature\n",
    "\n",
    "    precision, recall, _ = prcurve(y_true,y_scores)\n",
    "    from sklearn.metrics import average_precision_score\n",
    "    average_precision = average_precision_score([int(yx=='Sonnets') for yx in y_true], y_scores)\n",
    "    label = label.replace('_prob_sonnet','') + ' (AP=%s)' % round(average_precision,2)\n",
    "    # In matplotlib < 1.5, plt.fill_between does not have a 'step' argument\n",
    "    step_kwargs = ({'step': 'post'}\n",
    "                   if 'step' in signature(plt.fill_between).parameters\n",
    "                   else {})\n",
    "    plt.step(recall, precision, color=color, alpha=1.0,\n",
    "             where='post',label=label)\n",
    "    #plt.fill_between(recall, precision, alpha=0.2, color=color, **step_kwargs)\n",
    "    plt.xlabel('Recall')\n",
    "    plt.ylabel('Precision')\n",
    "    plt.ylim([0.0, 1.05])\n",
    "    plt.xlim([0.0, 1.0])\n",
    "    plt.title('2-class Precision-Recall curve')"
   ]
  },
  {
   "cell_type": "code",
   "execution_count": 335,
   "metadata": {},
   "outputs": [
    {
     "data": {
      "image/png": "[encoded data removed]",
      "text/plain": [
       "<Figure size 864x504 with 1 Axes>"
      ]
     },
     "metadata": {
      "needs_background": "light"
     },
     "output_type": "display_data"
    }
   ],
   "source": [
    "#plot_prcurve(df_probs[target_col], df_probs['poesy_prob_sonnet'])\n",
    "colors=['r','b','g','y','k','c']\n",
    "for i,col in enumerate(df_probs):\n",
    "    if col==target_col: continue\n",
    "    plot_prcurve(df_probs[target_col], df_probs[col],color=colors[i],label=col)\n",
    "plt.legend()\n",
    "plt.savefig('figure.png')\n",
    "plt.show()"
   ]
  }
 ],
 "metadata": {
  "kernelspec": {
   "display_name": "Python 2",
   "language": "python",
   "name": "python2"
  },
  "language_info": {
   "codemirror_mode": {
    "name": "ipython",
    "version": 2
   },
   "file_extension": ".py",
   "mimetype": "text/x-python",
   "name": "python",
   "nbconvert_exporter": "python",
   "pygments_lexer": "ipython2",
   "version": "2.7.15"
  }
 },
 "nbformat": 4,
 "nbformat_minor": 2
}
